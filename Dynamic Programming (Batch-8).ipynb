{
 "cells": [
  {
   "cell_type": "markdown",
   "id": "b3f5c8f1-bce2-41fd-878a-843be4c03f3b",
   "metadata": {},
   "source": [
    "## **Dynamic Programming**"
   ]
  },
  {
   "cell_type": "markdown",
   "id": "145c6f83-2f26-41f4-9540-f8219d93a5ee",
   "metadata": {},
   "source": [
    "> Dynamic Programming is a technique that combines the correctness of complete search and also finds the efficiency of Greedy algorithms. Dynamic Programming can be applied if the problem can be divided into overlapping subproblems that can be solved independently.\n",
    "\n",
    "> There are two uses of Dynamic Programming\n",
    "* **Finding an Optimal solution -** We want to find the solution that is as large as possible or as small as possible.\n",
    "* **Counting the number of solutions -**  We want to find to calculate the total number of possible and feasible solutions."
   ]
  },
  {
   "cell_type": "code",
   "execution_count": 1,
   "id": "3a1e380f-02a0-4367-a08f-b5697e4712e6",
   "metadata": {},
   "outputs": [
    {
     "name": "stdout",
     "output_type": "stream",
     "text": [
      "5\n",
      "21\n"
     ]
    }
   ],
   "source": [
    "# Fibonacci Problem\n",
    "#              index >  0  1  2  3  4  5  6  7   8   9   10 ...\n",
    "# Fibonacci numbers ->  0  1  1  2  3  5  8  13  21  34  55 ...\n",
    "# recursion calls the stacks, enhancing both the time complexity (exponential) and space complexity (extra space\n",
    "# to hold the return addresses of recursive function calls O(n)) complexities\n",
    "# find the n-th term of the Fibonacci series.\n",
    "def fibonacciRecursive(n):\n",
    "    if (n == 0 or n == 1):\n",
    "        return n\n",
    "    ans = fibonacciRecursive(n - 1) + fibonacciRecursive(n - 2)\n",
    "    return ans\n",
    "\n",
    "print (fibonacciRecursive(5))   # 5\n",
    "print (fibonacciRecursive(8))   # 21"
   ]
  },
  {
   "cell_type": "code",
   "execution_count": 3,
   "id": "3f5d4937-bb10-47fd-aa46-dfe1a59e155a",
   "metadata": {},
   "outputs": [
    {
     "name": "stdin",
     "output_type": "stream",
     "text": [
      "Please enter the index number:  5\n"
     ]
    },
    {
     "name": "stdout",
     "output_type": "stream",
     "text": [
      "5\n",
      "[0, 0, 1, 2, 3, 5]\n"
     ]
    }
   ],
   "source": [
    "# Fibonacci Problem\n",
    "#              index >  0  1  2  3  4  5  6  7   8   9   10 ...\n",
    "# Fibonacci numbers ->  0  1  1  2  3  5  8  13  21  34  55 ...\n",
    "# solving Fibonacci number problem in DP top-down approach\n",
    "# find the n-th term of the Fibonacci series.\n",
    "def fibonacciDPTopDown(n, dp):\n",
    "    if (n == 0 or n == 1): return n\n",
    "    if (dp[n] != 0): return dp[n]\n",
    "    dp[n] = fibonacciDPTopDown(n - 1, dp) + fibonacciDPTopDown(n - 2, dp)\n",
    "    return dp[n]\n",
    "\n",
    "n = int(input(\"Please enter the index number: \"))\n",
    "dp = [0 for i in range(n + 1)]\n",
    "print (fibonacciDPTopDown(n, dp))\n",
    "print (dp)"
   ]
  },
  {
   "cell_type": "code",
   "execution_count": null,
   "id": "ae90b45c-b189-4e5b-81ef-192d790173a8",
   "metadata": {},
   "outputs": [],
   "source": [
    "# Java Implementation\n",
    "package TestingThings;\n",
    "import java.util.Scanner;\n",
    "public class fibo {\n",
    "    public static void main(String[] args) {\n",
    "\n",
    "        Scanner sc=new Scanner(System.in);\n",
    "        int n=sc.nextInt();\n",
    "        int dp[]=new int[n+1];\n",
    "        System.out.println(Fibo(n,dp));\n",
    "\n",
    "    }\n",
    "    public  static  int Fibo(int n,int dp[]){\n",
    "        if(n==1 || n==0) return n;\n",
    "        if(dp[n]!=0){\n",
    "            return dp[n];\n",
    "        }\n",
    "\n",
    "       dp[n]=Fibo(n-1,dp)+Fibo(n-2,dp);\n",
    "        return dp[n];\n",
    "    }\n",
    "}                                                                                        "
   ]
  },
  {
   "cell_type": "code",
   "execution_count": 6,
   "id": "321c1f98-5364-4434-b09d-46e85a26df61",
   "metadata": {},
   "outputs": [
    {
     "name": "stdin",
     "output_type": "stream",
     "text": [
      "Please enter the index number:  5\n"
     ]
    },
    {
     "name": "stdout",
     "output_type": "stream",
     "text": [
      "[0, 1, 1, 2, 3, 5]\n",
      "5\n"
     ]
    }
   ],
   "source": [
    "# Fibonacci Problem\n",
    "#              index >  0  1  2  3  4  5  6  7   8   9   10 ...\n",
    "# Fibonacci numbers ->  0  1  1  2  3  5  8  13  21  34  55 ...\n",
    "# solving Fibonacci number problem in DP bottom up approach\n",
    "# time complexity O(n) and space complexity O(n)\n",
    "# find the n-th term of the Fibonacci series.\n",
    "def fibonacciDPBottomUp(n):\n",
    "    dp = [0 for i in range(n + 1)]\n",
    "    dp[0] = 0\n",
    "    dp[1] = 1\n",
    "    for i in range(2, n + 1):\n",
    "        dp[i] = dp[i - 1] + dp[i - 2]\n",
    "    print (dp)\n",
    "    return dp[n]\n",
    "\n",
    "n = int(input(\"Please enter the index number: \"))\n",
    "print (fibonacciDPBottomUp(n))"
   ]
  },
  {
   "cell_type": "code",
   "execution_count": 7,
   "id": "b3dc79fb-baae-40ba-9950-5e9b2eae6d5e",
   "metadata": {},
   "outputs": [
    {
     "name": "stdin",
     "output_type": "stream",
     "text": [
      "Please enter the index number:  5\n"
     ]
    },
    {
     "name": "stdout",
     "output_type": "stream",
     "text": [
      "5\n"
     ]
    }
   ],
   "source": [
    "# Fibonacci Problem\n",
    "#              index >  0  1  2  3  4  5  6  7   8   9   10 ...\n",
    "# Fibonacci numbers ->  0  1  1  2  3  5  8  13  21  34  55 ...\n",
    "# solving Fibonacci number problem in DP bottom up approach\n",
    "# time complexity O(n) and space complexity O(1)\n",
    "# find the n-th term of the Fibonacci series.\n",
    "def fibonacciDPBottomUpSpaceOptimized(n):\n",
    "    if (n == 0 or n == 1):\n",
    "        return n\n",
    "    f1 = 0\n",
    "    f2 = 1\n",
    "    for i in range(2, n + 1):\n",
    "        f3 = f1 + f2\n",
    "        f1 = f2\n",
    "        f2 = f3\n",
    "    return f3\n",
    "\n",
    "n = int(input(\"Please enter the index number: \"))\n",
    "print (fibonacciDPBottomUpSpaceOptimized(n))"
   ]
  },
  {
   "cell_type": "code",
   "execution_count": null,
   "id": "3cb557db-0111-4445-b8e5-63c4fdbdb31b",
   "metadata": {},
   "outputs": [],
   "source": [
    "LeetCode: 509. Fibonacci Number (https://leetcode.com/problems/fibonacci-number/)\n",
    "\n",
    "The Fibonacci numbers, commonly denoted F(n) form a sequence, called the Fibonacci sequence,\n",
    "such that each number is the sum of the two preceding ones, starting from 0 and 1. That is,\n",
    "\n",
    "F(0) = 0, F(1) = 1\n",
    "F(n) = F(n - 1) + F(n - 2), for n > 1.\n",
    "Given n, calculate F(n).\n",
    "\n",
    "Example 1:\n",
    "Input: n = 2\n",
    "Output: 1\n",
    "Explanation: F(2) = F(1) + F(0) = 1 + 0 = 1.\n",
    "\n",
    "Example 2:\n",
    "Input: n = 3\n",
    "Output: 2\n",
    "Explanation: F(3) = F(2) + F(1) = 1 + 1 = 2.\n",
    "\n",
    "Example 3:\n",
    "Input: n = 4\n",
    "Output: 3\n",
    "Explanation: F(4) = F(3) + F(2) = 2 + 1 = 3.\n",
    "\n",
    "Constraints:\n",
    "0 <= n <= 30"
   ]
  },
  {
   "cell_type": "code",
   "execution_count": null,
   "id": "71e5e1a0-65d6-4274-b6ba-9741232b6f3e",
   "metadata": {},
   "outputs": [],
   "source": []
  },
  {
   "cell_type": "code",
   "execution_count": null,
   "id": "7417f103-6071-4dab-b43e-277cbf7ded86",
   "metadata": {},
   "outputs": [],
   "source": []
  },
  {
   "cell_type": "code",
   "execution_count": null,
   "id": "dc458255-55fa-4291-80ac-69476209233a",
   "metadata": {},
   "outputs": [],
   "source": []
  },
  {
   "cell_type": "code",
   "execution_count": null,
   "id": "2953c550-c336-47da-97db-0fc5c8d98f62",
   "metadata": {},
   "outputs": [],
   "source": []
  },
  {
   "cell_type": "code",
   "execution_count": null,
   "id": "44808fa7-fb77-4546-9dfa-4604ec21e367",
   "metadata": {},
   "outputs": [],
   "source": []
  },
  {
   "cell_type": "code",
   "execution_count": null,
   "id": "b036719e-e186-4790-82ed-a0293ff1e9c4",
   "metadata": {},
   "outputs": [],
   "source": []
  },
  {
   "cell_type": "code",
   "execution_count": null,
   "id": "d44d9315-485a-415d-ac7c-4c8f3964f6f3",
   "metadata": {},
   "outputs": [],
   "source": []
  },
  {
   "cell_type": "code",
   "execution_count": null,
   "id": "d1ebbff4-f60b-4047-ba4d-96409118e72c",
   "metadata": {},
   "outputs": [],
   "source": []
  }
 ],
 "metadata": {
  "kernelspec": {
   "display_name": "Python 3",
   "language": "python",
   "name": "python3"
  },
  "language_info": {
   "codemirror_mode": {
    "name": "ipython",
    "version": 3
   },
   "file_extension": ".py",
   "mimetype": "text/x-python",
   "name": "python",
   "nbconvert_exporter": "python",
   "pygments_lexer": "ipython3",
   "version": "3.8.8"
  }
 },
 "nbformat": 4,
 "nbformat_minor": 5
}
