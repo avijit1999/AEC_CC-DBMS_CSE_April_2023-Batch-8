{
 "cells": [
  {
   "cell_type": "markdown",
   "id": "b3f5c8f1-bce2-41fd-878a-843be4c03f3b",
   "metadata": {},
   "source": [
    "## **Dynamic Programming**"
   ]
  },
  {
   "cell_type": "markdown",
   "id": "145c6f83-2f26-41f4-9540-f8219d93a5ee",
   "metadata": {},
   "source": [
    "> Dynamic Programming is a technique that combines the correctness of complete search and also finds the efficiency of Greedy algorithms. Dynamic Programming can be applied if the problem can be divided into overlapping subproblems that can be solved independently.\n",
    "\n",
    "> There are two uses of Dynamic Programming\n",
    "* **Finding an Optimal solution -** We want to find the solution that is as large as possible or as small as possible.\n",
    "* **Counting the number of solutions -**  We want to find to calculate the total number of possible and feasible solutions."
   ]
  },
  {
   "cell_type": "code",
   "execution_count": 1,
   "id": "3a1e380f-02a0-4367-a08f-b5697e4712e6",
   "metadata": {},
   "outputs": [
    {
     "name": "stdout",
     "output_type": "stream",
     "text": [
      "5\n",
      "21\n"
     ]
    }
   ],
   "source": [
    "# Fibonacci Problem\n",
    "#              index >  0  1  2  3  4  5  6  7   8   9   10 ...\n",
    "# Fibonacci numbers ->  0  1  1  2  3  5  8  13  21  34  55 ...\n",
    "# recursion calls the stacks, enhancing both the time complexity (exponential) and space complexity (extra space\n",
    "# to hold the return addresses of recursive function calls O(n)) complexities\n",
    "# find the n-th term of the Fibonacci series.\n",
    "def fibonacciRecursive(n):\n",
    "    if (n == 0 or n == 1):\n",
    "        return n\n",
    "    ans = fibonacciRecursive(n - 1) + fibonacciRecursive(n - 2)\n",
    "    return ans\n",
    "\n",
    "print (fibonacciRecursive(5))   # 5\n",
    "print (fibonacciRecursive(8))   # 21"
   ]
  },
  {
   "cell_type": "code",
   "execution_count": 3,
   "id": "3f5d4937-bb10-47fd-aa46-dfe1a59e155a",
   "metadata": {},
   "outputs": [
    {
     "name": "stdin",
     "output_type": "stream",
     "text": [
      "Please enter the index number:  5\n"
     ]
    },
    {
     "name": "stdout",
     "output_type": "stream",
     "text": [
      "5\n",
      "[0, 0, 1, 2, 3, 5]\n"
     ]
    }
   ],
   "source": [
    "# Fibonacci Problem\n",
    "#              index >  0  1  2  3  4  5  6  7   8   9   10 ...\n",
    "# Fibonacci numbers ->  0  1  1  2  3  5  8  13  21  34  55 ...\n",
    "# solving Fibonacci number problem in DP top-down approach\n",
    "# find the n-th term of the Fibonacci series.\n",
    "def fibonacciDPTopDown(n, dp):\n",
    "    if (n == 0 or n == 1): return n\n",
    "    if (dp[n] != 0): return dp[n]\n",
    "    dp[n] = fibonacciDPTopDown(n - 1, dp) + fibonacciDPTopDown(n - 2, dp)\n",
    "    return dp[n]\n",
    "\n",
    "n = int(input(\"Please enter the index number: \"))\n",
    "dp = [0 for i in range(n + 1)]\n",
    "print (fibonacciDPTopDown(n, dp))\n",
    "print (dp)"
   ]
  },
  {
   "cell_type": "code",
   "execution_count": null,
   "id": "ae90b45c-b189-4e5b-81ef-192d790173a8",
   "metadata": {},
   "outputs": [],
   "source": [
    "# Java Implementation\n",
    "package TestingThings;\n",
    "import java.util.Scanner;\n",
    "public class fibo {\n",
    "    public static void main(String[] args) {\n",
    "\n",
    "        Scanner sc=new Scanner(System.in);\n",
    "        int n=sc.nextInt();\n",
    "        int dp[]=new int[n+1];\n",
    "        System.out.println(Fibo(n,dp));\n",
    "\n",
    "    }\n",
    "    public  static  int Fibo(int n,int dp[]){\n",
    "        if(n==1 || n==0) return n;\n",
    "        if(dp[n]!=0){\n",
    "            return dp[n];\n",
    "        }\n",
    "\n",
    "       dp[n]=Fibo(n-1,dp)+Fibo(n-2,dp);\n",
    "        return dp[n];\n",
    "    }\n",
    "}                                                                                        "
   ]
  },
  {
   "cell_type": "code",
   "execution_count": 6,
   "id": "321c1f98-5364-4434-b09d-46e85a26df61",
   "metadata": {},
   "outputs": [
    {
     "name": "stdin",
     "output_type": "stream",
     "text": [
      "Please enter the index number:  5\n"
     ]
    },
    {
     "name": "stdout",
     "output_type": "stream",
     "text": [
      "[0, 1, 1, 2, 3, 5]\n",
      "5\n"
     ]
    }
   ],
   "source": [
    "# Fibonacci Problem\n",
    "#              index >  0  1  2  3  4  5  6  7   8   9   10 ...\n",
    "# Fibonacci numbers ->  0  1  1  2  3  5  8  13  21  34  55 ...\n",
    "# solving Fibonacci number problem in DP bottom up approach\n",
    "# time complexity O(n) and space complexity O(n)\n",
    "# find the n-th term of the Fibonacci series.\n",
    "def fibonacciDPBottomUp(n):\n",
    "    dp = [0 for i in range(n + 1)]\n",
    "    dp[0] = 0\n",
    "    dp[1] = 1\n",
    "    for i in range(2, n + 1):\n",
    "        dp[i] = dp[i - 1] + dp[i - 2]\n",
    "    print (dp)\n",
    "    return dp[n]\n",
    "\n",
    "n = int(input(\"Please enter the index number: \"))\n",
    "print (fibonacciDPBottomUp(n))"
   ]
  },
  {
   "cell_type": "code",
   "execution_count": 7,
   "id": "b3dc79fb-baae-40ba-9950-5e9b2eae6d5e",
   "metadata": {},
   "outputs": [
    {
     "name": "stdin",
     "output_type": "stream",
     "text": [
      "Please enter the index number:  5\n"
     ]
    },
    {
     "name": "stdout",
     "output_type": "stream",
     "text": [
      "5\n"
     ]
    }
   ],
   "source": [
    "# Fibonacci Problem\n",
    "#              index >  0  1  2  3  4  5  6  7   8   9   10 ...\n",
    "# Fibonacci numbers ->  0  1  1  2  3  5  8  13  21  34  55 ...\n",
    "# solving Fibonacci number problem in DP bottom up approach\n",
    "# time complexity O(n) and space complexity O(1)\n",
    "# find the n-th term of the Fibonacci series.\n",
    "def fibonacciDPBottomUpSpaceOptimized(n):\n",
    "    if (n == 0 or n == 1):\n",
    "        return n\n",
    "    f1 = 0\n",
    "    f2 = 1\n",
    "    for i in range(2, n + 1):\n",
    "        f3 = f1 + f2\n",
    "        f1 = f2\n",
    "        f2 = f3\n",
    "    return f3\n",
    "\n",
    "n = int(input(\"Please enter the index number: \"))\n",
    "print (fibonacciDPBottomUpSpaceOptimized(n))"
   ]
  },
  {
   "cell_type": "code",
   "execution_count": null,
   "id": "3cb557db-0111-4445-b8e5-63c4fdbdb31b",
   "metadata": {},
   "outputs": [],
   "source": [
    "LeetCode: 509. Fibonacci Number (https://leetcode.com/problems/fibonacci-number/)\n",
    "\n",
    "The Fibonacci numbers, commonly denoted F(n) form a sequence, called the Fibonacci sequence,\n",
    "such that each number is the sum of the two preceding ones, starting from 0 and 1. That is,\n",
    "\n",
    "F(0) = 0, F(1) = 1\n",
    "F(n) = F(n - 1) + F(n - 2), for n > 1.\n",
    "Given n, calculate F(n).\n",
    "\n",
    "Example 1:\n",
    "Input: n = 2\n",
    "Output: 1\n",
    "Explanation: F(2) = F(1) + F(0) = 1 + 0 = 1.\n",
    "\n",
    "Example 2:\n",
    "Input: n = 3\n",
    "Output: 2\n",
    "Explanation: F(3) = F(2) + F(1) = 1 + 1 = 2.\n",
    "\n",
    "Example 3:\n",
    "Input: n = 4\n",
    "Output: 3\n",
    "Explanation: F(4) = F(3) + F(2) = 2 + 1 = 3.\n",
    "\n",
    "Constraints:\n",
    "0 <= n <= 30"
   ]
  },
  {
   "cell_type": "code",
   "execution_count": 8,
   "id": "71e5e1a0-65d6-4274-b6ba-9741232b6f3e",
   "metadata": {},
   "outputs": [
    {
     "name": "stdout",
     "output_type": "stream",
     "text": [
      "5\n",
      "21\n"
     ]
    }
   ],
   "source": [
    "class Solution(object):\n",
    "    def fib(self, n):\n",
    "        \"\"\"\n",
    "        :type n: int\n",
    "        :rtype: int\n",
    "        \"\"\"\n",
    "        if (n == 0 or n == 1):\n",
    "            return n\n",
    "        f1 = 0;\n",
    "        f2 = 1\n",
    "        for i in range(2, n + 1):\n",
    "            f3 = f1 + f2\n",
    "            f1 = f2\n",
    "            f2 = f3\n",
    "        return f3\n",
    "    \n",
    "print (Solution().fib(5))\n",
    "print (Solution().fib(8))"
   ]
  },
  {
   "cell_type": "code",
   "execution_count": null,
   "id": "7417f103-6071-4dab-b43e-277cbf7ded86",
   "metadata": {},
   "outputs": [],
   "source": [
    "# java Implementation\n",
    "class Solution {\n",
    "    public int fib(int n) {\n",
    "        \n",
    "        if(n==0)\n",
    "        {\n",
    "            return 0;\n",
    "        }\n",
    "        if(n==1)\n",
    "        {\n",
    "            return 1;\n",
    "        }\n",
    "        int ans = fib(n-1)+fib(n-2);\n",
    "        return ans;\n",
    "    }\n",
    "}"
   ]
  },
  {
   "cell_type": "code",
   "execution_count": null,
   "id": "dc458255-55fa-4291-80ac-69476209233a",
   "metadata": {},
   "outputs": [],
   "source": [
    "LetCode: 300. Longest Increasing Subsequence (https://leetcode.com/problems/longest-increasing-subsequence/)\n",
    "\n",
    "Given an integer array nums, return the length of the longest strictly increasing subsequence.\n",
    "\n",
    "Example 1:\n",
    "Input: nums = [10,9,2,5,3,7,101,18]\n",
    "Output: 4\n",
    "Explanation: The longest increasing subsequence is [2,3,7,101], therefore the length is 4.\n",
    "\n",
    "Example 2:\n",
    "Input: nums = [0,1,0,3,2,3]\n",
    "Output: 4\n",
    "\n",
    "Example 3:\n",
    "Input: nums = [7,7,7,7,7,7,7]\n",
    "Output: 1\n",
    "\n",
    "Constraints:\n",
    "1 <= nums.length <= 2500\n",
    "-10^4 <= nums[i] <= 10^4\n",
    "\n",
    "Follow up: Can you come up with an algorithm that runs in O(n log(n)) time complexity?"
   ]
  },
  {
   "cell_type": "code",
   "execution_count": 10,
   "id": "2953c550-c336-47da-97db-0fc5c8d98f62",
   "metadata": {},
   "outputs": [
    {
     "name": "stdout",
     "output_type": "stream",
     "text": [
      "[1, 1, 1, 1, 1, 1, 1, 1]\n",
      "[1, 1, 1, 1, 1, 1, 1, 1]\n",
      "[1, 1, 1, 2, 1, 1, 1, 1]\n",
      "[1, 1, 1, 2, 2, 1, 1, 1]\n",
      "[1, 1, 1, 2, 2, 3, 1, 1]\n",
      "[1, 1, 1, 2, 2, 3, 4, 1]\n",
      "[1, 1, 1, 2, 2, 3, 4, 4]\n",
      "4\n",
      "[1, 2, 1, 1, 1, 1, 1, 1, 1, 1]\n",
      "[1, 2, 1, 1, 1, 1, 1, 1, 1, 1]\n",
      "[1, 2, 1, 3, 1, 1, 1, 1, 1, 1]\n",
      "[1, 2, 1, 3, 2, 1, 1, 1, 1, 1]\n",
      "[1, 2, 1, 3, 2, 4, 1, 1, 1, 1]\n",
      "[1, 2, 1, 3, 2, 4, 4, 1, 1, 1]\n",
      "[1, 2, 1, 3, 2, 4, 4, 5, 1, 1]\n",
      "[1, 2, 1, 3, 2, 4, 4, 5, 6, 1]\n",
      "[1, 2, 1, 3, 2, 4, 4, 5, 6, 1]\n",
      "6\n"
     ]
    }
   ],
   "source": [
    "class Solution(object):\n",
    "    def lengthOfLIS(self, nums):\n",
    "        \"\"\"\n",
    "        :type nums: List[int]\n",
    "        :rtype: int\n",
    "        \"\"\"\n",
    "        n = len(nums)\n",
    "        if (n <= 1): return n\n",
    "        dp = [1 for i in range(n)]\n",
    "        for i in range(1, n):\n",
    "            for j in range(i):\n",
    "                if (nums[j] < nums[i]):\n",
    "                    current_len = 1 + dp[j]\n",
    "                    dp[i] = max(current_len, dp[i])\n",
    "            print (dp)\n",
    "        return max(dp)\n",
    "        \n",
    "print (Solution().lengthOfLIS([10,9,2,5,3,7,101,18]))   # 4\n",
    "print (Solution().lengthOfLIS([10,29,9,33,21,50,41,60,80,6]))   # 6"
   ]
  },
  {
   "cell_type": "code",
   "execution_count": null,
   "id": "44808fa7-fb77-4546-9dfa-4604ec21e367",
   "metadata": {},
   "outputs": [],
   "source": [
    "# Java Implementation\n",
    "//anish gupta from csbs\n",
    "\n",
    "class Solution {\n",
    "    private int lower_bound(List<Integer> a, int low, int high, int target) {\n",
    "        if(low > high) return low;\n",
    "        int mid = (low + high) >> 1;\n",
    "        if(target <= a.get(mid)) return lower_bound(a, low, mid - 1, target);\n",
    "        return lower_bound(a, mid + 1, high, target);\n",
    "    }\n",
    "    public int lengthOfLIS(int[] nums) {\n",
    "        int count = 1;\n",
    "        List<Integer> res = new ArrayList<Integer>();\n",
    "        res.add(nums[0]);\n",
    "        for(int i = 1; i < nums.length; i++) {\n",
    "            if(nums[i] > res.get(res.size() - 1)) {\n",
    "                res.add(nums[i]);\n",
    "                count++;\n",
    "            } else res.set(lower_bound(res, 0, res.size() - 1, nums[i]), nums[i]);\n",
    "        }\n",
    "        return res.size();\n",
    "    }\n",
    "}"
   ]
  },
  {
   "cell_type": "markdown",
   "id": "db1b46e7-5a88-478f-881f-bee945edd70e",
   "metadata": {},
   "source": [
    "### **Minimum Steps to One**"
   ]
  },
  {
   "cell_type": "code",
   "execution_count": 1,
   "id": "d44d9315-485a-415d-ac7c-4c8f3964f6f3",
   "metadata": {},
   "outputs": [
    {
     "name": "stdin",
     "output_type": "stream",
     "text": [
      "Please enter the initial staircase number:  10\n"
     ]
    },
    {
     "name": "stdout",
     "output_type": "stream",
     "text": [
      "[0, 0, 1, 0, 0, 0, 0, 0, 0, 0, 0]\n",
      "[0, 0, 1, 1, 0, 0, 0, 0, 0, 0, 0]\n",
      "[0, 0, 1, 1, 2, 0, 0, 0, 0, 0, 0]\n",
      "[0, 0, 1, 1, 2, 3, 0, 0, 0, 0, 0]\n",
      "[0, 0, 1, 1, 2, 3, 2, 0, 0, 0, 0]\n",
      "[0, 0, 1, 1, 2, 3, 2, 3, 0, 0, 0]\n",
      "[0, 0, 1, 1, 2, 3, 2, 3, 3, 0, 0]\n",
      "[0, 0, 1, 1, 2, 3, 2, 3, 3, 2, 0]\n",
      "[0, 0, 1, 1, 2, 3, 2, 3, 3, 2, 3]\n",
      "3\n"
     ]
    }
   ],
   "source": [
    "import math\n",
    "def minStepsToOneTopDownDP(n, dp):\n",
    "    # base case\n",
    "    if (n == 1): return 0\n",
    "    # recursive case\n",
    "    # lookup whether dp[n] was pre-calculated or not\n",
    "    if (dp[n] != 0): return dp[n]\n",
    "    # compute dp[n] for the first time\n",
    "    option1 = option2 = option3 = math.inf\n",
    "    if (n % 3 == 0):\n",
    "        option1 = minStepsToOneTopDownDP(n // 3, dp)\n",
    "    if (n % 2 == 0):\n",
    "        option2 = minStepsToOneTopDownDP(n // 2, dp)\n",
    "    option3 = minStepsToOneTopDownDP(n - 1, dp)\n",
    "    dp[n] = min(option1, option2, option3) + 1\n",
    "    print (dp)\n",
    "    return dp[n]\n",
    "\n",
    "n = int(input(\"Please enter the initial staircase number: \"))\n",
    "dp = [0 for i in range(n + 1)]\n",
    "print (minStepsToOneTopDownDP(n, dp))"
   ]
  },
  {
   "cell_type": "code",
   "execution_count": null,
   "id": "2af08dd1-4009-42cc-b4da-2751a0311c59",
   "metadata": {},
   "outputs": [],
   "source": [
    "# C++ Implementation\n",
    "// subhadeep CSE\n",
    "#include <bits/stdc++.h> \n",
    "int countStepsToOne(int n) {\n",
    "    vector<int> dp(n+1,0);\n",
    "    dp[1] = 0, dp[2] = 1, dp[3] = 1, dp[4] = 2;\n",
    "    for (int i = 4; i <= n; i++) {\n",
    "        int a = INT_MAX,b = INT_MAX, c = INT_MAX;\n",
    "        if (i % 2 == 0) {\n",
    "            a = 1 + dp[i/2];\n",
    "        }\n",
    "        if (i % 3 == 0) {\n",
    "            b = 1 + dp[i/3];\n",
    "        }\n",
    "        c = 1 + dp[i-1];\n",
    "        dp[i] = min({a,b,c});\n",
    "    }\n",
    "    return dp[n];\n",
    "}"
   ]
  },
  {
   "cell_type": "code",
   "execution_count": null,
   "id": "21eb5dbf-8469-4f98-9e76-6b62f71aa6b8",
   "metadata": {},
   "outputs": [],
   "source": [
    "# Java Implementation\n",
    "import java.util.*;\n",
    "import java.util.Scanner;\n",
    "\n",
    "public class Main {\n",
    "\n",
    "    public static int minStepsToOneTopDownDP(int n, int[] dp) {\n",
    "        // base case\n",
    "        if (n == 1) return 0;\n",
    "        // recursive case\n",
    "        // lookup whether dp[n] was pre-calculated or not\n",
    "        if (dp[n] != 0) return dp[n];\n",
    "        // compute dp[n] for the first time\n",
    "        int option1 = Integer.MAX_VALUE, option2 = Integer.MAX_VALUE, option3 = Integer.MAX_VALUE;\n",
    "        if (n % 3 == 0) {\n",
    "            option1 = minStepsToOneTopDownDP(n / 3, dp);\n",
    "        }\n",
    "        if (n % 2 == 0) {\n",
    "            option2 = minStepsToOneTopDownDP(n / 2, dp);\n",
    "        }\n",
    "        option3 = minStepsToOneTopDownDP(n - 1, dp);\n",
    "        dp[n] = Math.min(Math.min(option1, option2), option3) + 1;\n",
    "        System.out.println(Arrays.toString(dp));\n",
    "        return dp[n];\n",
    "    }\n",
    "\n",
    "    public static void main(String[] args) {\n",
    "        Scanner input = new Scanner(System.in);\n",
    "        System.out.print(\"Please enter the initial staircase number: \");\n",
    "        int n = input.nextInt();\n",
    "        int[] dp = new int[n + 1];\n",
    "        System.out.println(minStepsToOneTopDownDP(n, dp));\n",
    "    }\n",
    "}"
   ]
  },
  {
   "cell_type": "code",
   "execution_count": 2,
   "id": "694832f2-7f4a-4ca5-8733-c0ad8047d6dd",
   "metadata": {},
   "outputs": [
    {
     "name": "stdin",
     "output_type": "stream",
     "text": [
      "Please enter the initial staircase number:  10\n"
     ]
    },
    {
     "name": "stdout",
     "output_type": "stream",
     "text": [
      "[0, 0, 1, 1, 2, 3, 2, 3, 3, 2, 3]\n",
      "3\n"
     ]
    }
   ],
   "source": [
    "import math\n",
    "def minStepsToOneBottomUpDP(n):\n",
    "    # base case\n",
    "    dp = [0 for i in range(n + 1)]\n",
    "    dp[1] = 0\n",
    "    # iterating on n\n",
    "    for i in range(2, n + 1):\n",
    "        option1 = option2 = option3 = math.inf\n",
    "        if (i % 3 == 0): option1 = dp[i // 3]\n",
    "        if (i % 2 == 0): option2 = dp[i // 2]\n",
    "        option3 = dp[i - 1]\n",
    "        dp[i] = min(option1, option2, option3) + 1\n",
    "    print (dp)\n",
    "    return dp[n]\n",
    "\n",
    "n = int(input(\"Please enter the initial staircase number: \"))\n",
    "print (minStepsToOneBottomUpDP(n))"
   ]
  },
  {
   "cell_type": "code",
   "execution_count": null,
   "id": "12975daf-0516-4ec5-b6ab-b7485f310e81",
   "metadata": {},
   "outputs": [],
   "source": []
  },
  {
   "cell_type": "code",
   "execution_count": null,
   "id": "aa3356c7-811e-4228-9e36-a87803ea93a0",
   "metadata": {},
   "outputs": [],
   "source": []
  },
  {
   "cell_type": "code",
   "execution_count": null,
   "id": "2602d168-72dd-4c49-b004-bf9239b77272",
   "metadata": {},
   "outputs": [],
   "source": []
  },
  {
   "cell_type": "code",
   "execution_count": null,
   "id": "fb75b859-25a6-4268-af95-8261e4cb2f54",
   "metadata": {},
   "outputs": [],
   "source": []
  },
  {
   "cell_type": "code",
   "execution_count": null,
   "id": "bdeb5dfa-d3c6-428d-8c77-367cb31822c6",
   "metadata": {},
   "outputs": [],
   "source": []
  },
  {
   "cell_type": "code",
   "execution_count": null,
   "id": "da33d9f3-bf4d-42a6-b4f1-3a1db3d99219",
   "metadata": {},
   "outputs": [],
   "source": []
  },
  {
   "cell_type": "code",
   "execution_count": null,
   "id": "caa216ee-fb22-4ec2-8435-01189add1a1b",
   "metadata": {},
   "outputs": [],
   "source": []
  },
  {
   "cell_type": "code",
   "execution_count": null,
   "id": "33e67b45-3fc4-4c88-bf2a-4ef52eca9091",
   "metadata": {},
   "outputs": [],
   "source": []
  },
  {
   "cell_type": "code",
   "execution_count": null,
   "id": "9952730b-7ea8-4644-ad1e-fe7fa0bc6983",
   "metadata": {},
   "outputs": [],
   "source": []
  },
  {
   "cell_type": "code",
   "execution_count": null,
   "id": "0a678ac6-1b41-41e2-9286-eaf4255db62f",
   "metadata": {},
   "outputs": [],
   "source": []
  },
  {
   "cell_type": "code",
   "execution_count": null,
   "id": "b519733d-1594-44b9-aca2-b280f95f13eb",
   "metadata": {},
   "outputs": [],
   "source": []
  },
  {
   "cell_type": "code",
   "execution_count": null,
   "id": "701609d5-cbea-4c79-a694-ef64ca99635a",
   "metadata": {},
   "outputs": [],
   "source": []
  },
  {
   "cell_type": "code",
   "execution_count": null,
   "id": "27f10e56-00d4-432e-8726-952038936c8c",
   "metadata": {},
   "outputs": [],
   "source": []
  },
  {
   "cell_type": "code",
   "execution_count": null,
   "id": "aea55081-e672-4905-8f9a-145f60766e5d",
   "metadata": {},
   "outputs": [],
   "source": []
  },
  {
   "cell_type": "code",
   "execution_count": null,
   "id": "5e00427c-f354-46ab-a6c4-04bac98cfdc7",
   "metadata": {},
   "outputs": [],
   "source": []
  },
  {
   "cell_type": "code",
   "execution_count": null,
   "id": "a3cf77ac-dc58-4aca-a0d7-14c3bb811d96",
   "metadata": {},
   "outputs": [],
   "source": []
  },
  {
   "cell_type": "code",
   "execution_count": null,
   "id": "c5ae7a4e-0cf3-4965-8171-c402305293f1",
   "metadata": {},
   "outputs": [],
   "source": []
  },
  {
   "cell_type": "code",
   "execution_count": null,
   "id": "e9a7b61d-1731-4d8d-9a62-af009f2c95b6",
   "metadata": {},
   "outputs": [],
   "source": []
  },
  {
   "cell_type": "code",
   "execution_count": null,
   "id": "d1ebbff4-f60b-4047-ba4d-96409118e72c",
   "metadata": {},
   "outputs": [],
   "source": []
  }
 ],
 "metadata": {
  "kernelspec": {
   "display_name": "Python 3",
   "language": "python",
   "name": "python3"
  },
  "language_info": {
   "codemirror_mode": {
    "name": "ipython",
    "version": 3
   },
   "file_extension": ".py",
   "mimetype": "text/x-python",
   "name": "python",
   "nbconvert_exporter": "python",
   "pygments_lexer": "ipython3",
   "version": "3.8.8"
  }
 },
 "nbformat": 4,
 "nbformat_minor": 5
}
