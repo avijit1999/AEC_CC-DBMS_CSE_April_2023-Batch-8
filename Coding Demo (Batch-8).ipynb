{
 "cells": [
  {
   "cell_type": "code",
   "execution_count": null,
   "id": "be5bcfb7-70d1-46ff-8ab9-191bbdf16a69",
   "metadata": {},
   "outputs": [],
   "source": [
    "Find out all possible 3-digit Triode Numbers. Let x be a Triode number, than x, 2x and 3x will have all distinct digits.\n",
    "As example -\n",
    "  x = 219\n",
    "2*x = 438\n",
    "3*x = 657\n",
    "So 219 is one of the Triode Numbers.\n",
    "\n",
    "Do it in any programming language."
   ]
  },
  {
   "cell_type": "code",
   "execution_count": null,
   "id": "3342fa11-d0ff-423b-8ed5-748f22f0346c",
   "metadata": {},
   "outputs": [],
   "source": [
    "for x in range(102, 498):\n",
    "    digits = [0 for i in range(10)]\n",
    "    flag = 1\n",
    "    for i in range(1, 4):\n",
    "        num = i * x\n",
    "        while (num != 0):\n",
    "            last_digit = num % 10\n",
    "            if (digits[last_digit] != 0):\n",
    "                flag = 0\n",
    "                break\n",
    "            else:\n",
    "                digits[last_digit] = 1\n",
    "                num = num // 10\n",
    "        if (flag == 0): break\n",
    "    if (flag == 1): print (x, 2 *x , 3 * x)\n",
    "print (\"End of the program...\")"
   ]
  },
  {
   "cell_type": "code",
   "execution_count": null,
   "id": "aea442e6-b586-423b-9a96-37f60e922191",
   "metadata": {},
   "outputs": [],
   "source": [
    "# C++ Implementation\n",
    "#include <iostream>\n",
    "#include <vector>\n",
    "int main() {\n",
    "    std::cout << \"Triode Numbers :-\\n\";\n",
    "\n",
    "    for (int i = 102; i <= 498; ++i) {\n",
    "        bool is_triode = true;\n",
    "        std::vector<bool> digit_is_present(10, false);\n",
    "        for (int j = i; j <= (3 * i); j += i) {\n",
    "            int x = j;\n",
    "            while (x > 0) {\n",
    "                if (digit_is_present[x % 10]) {\n",
    "                    is_triode = false;\n",
    "                    goto end_of_current_iteration;\n",
    "                }\n",
    "                digit_is_present[x % 10] = true;\n",
    "                x /= 10;\n",
    "            }\n",
    "        }\n",
    "        if (is_triode)\n",
    "            std::cout << i << '\\n';\n",
    "        end_of_current_iteration: ;\n",
    "    }\n",
    "    return 0;\n",
    "}"
   ]
  },
  {
   "cell_type": "code",
   "execution_count": null,
   "id": "be160e77-a785-4e22-8279-de177818a0c0",
   "metadata": {},
   "outputs": [],
   "source": [
    "Class Assignment:\n",
    "Programming Assignment - 1 (10 Minutes)\n",
    "Print the following pattern for user given ODD value for n.\n",
    "For n = 11\n",
    "\n",
    "***********\n",
    ".*********\n",
    "..*******\n",
    "...*****\n",
    "....***\n",
    ".....*\n",
    "....***\n",
    "...*****\n",
    "..*******\n",
    ".*********\n",
    "***********"
   ]
  },
  {
   "cell_type": "code",
   "execution_count": null,
   "id": "a1d83860-032c-4e92-9b8a-8d6b01aa2808",
   "metadata": {},
   "outputs": [],
   "source": [
    "# C++ Implementation\n",
    "#include <iostream>\n",
    "#include <string>\n",
    "    \n",
    "int main() {\n",
    "    int n;\n",
    "    while (true) {\n",
    "        std::cout << \" enter a Odd number : \";\n",
    "        std::cin >> n;\n",
    "        if (n % 2 == 1) {\n",
    "            break;\n",
    "        }\n",
    "    }\n",
    "    int m = (n + 1) / 2;\n",
    "    for (int i = 1; i <= n; ++i) {\n",
    "        int b, s;\n",
    "        if (i > m) {\n",
    "            b = (n - i);\n",
    "            s = 2 * (i - m) + 1;\n",
    "        } else {\n",
    "            b = (i - 1);\n",
    "            s = 2 * (m - i) + 1;\n",
    "        }\n",
    "        std::string dots(b, '.');\n",
    "        std::string asterisks(s, '*');\n",
    "        std::cout << dots << asterisks << std::endl;\n",
    "    }       \n",
    "    return 0;\n",
    "}"
   ]
  },
  {
   "cell_type": "code",
   "execution_count": 3,
   "id": "dc31f450-3ce1-4165-b67e-cb3c25c2c413",
   "metadata": {},
   "outputs": [
    {
     "name": "stdout",
     "output_type": "stream",
     "text": [
      "Hello Hello Hello Hello \n",
      "Welcome Welcome Welcome Welcome Welcome Welcome Welcome \n"
     ]
    }
   ],
   "source": [
    "print (\"Hello \" * 4)\n",
    "print (\"Welcome \" * 7)"
   ]
  },
  {
   "cell_type": "code",
   "execution_count": null,
   "id": "10a6224b-6757-432c-ac72-d4bdf0bdc15d",
   "metadata": {},
   "outputs": [],
   "source": [
    "For n = 11  m = (n + 1) // 2 = 6\n",
    "\n",
    "                 i    .    *\n",
    "              -----------------\n",
    "***********      1    0   11        (i, m, n)\n",
    ".*********       2    1    9   . => (i - 1)\n",
    "..*******        3    2    7\n",
    "...*****         4    3    5   * => 2 * (m - i) + 1\n",
    "....***          5    4    3\n",
    ".....*        ___6____5____1___\n",
    "....***          7    4    3\n",
    "...*****         8    3    5   . => (n - i)\n",
    "..*******        9    2    7\n",
    ".*********      10    1    9   * => 2 * (i - m) + 1\n",
    "***********     11    0   11\n",
    "              -----------------"
   ]
  },
  {
   "cell_type": "code",
   "execution_count": 8,
   "id": "b62a891d-e196-4883-aed7-fb53dae6866e",
   "metadata": {},
   "outputs": [
    {
     "name": "stdin",
     "output_type": "stream",
     "text": [
      "Please enter the OOD number of layers:  14\n",
      "Please enter the OOD number of layers:  12\n",
      "Please enter the OOD number of layers:  10\n",
      "Please enter the OOD number of layers:  8\n",
      "Please enter the OOD number of layers:  16\n",
      "Please enter the OOD number of layers:  11\n"
     ]
    },
    {
     "name": "stdout",
     "output_type": "stream",
     "text": [
      "***********\n",
      ".*********\n",
      "..*******\n",
      "...*****\n",
      "....***\n",
      ".....*\n",
      "....***\n",
      "...*****\n",
      "..*******\n",
      ".*********\n",
      "***********\n",
      "End of the program...\n"
     ]
    }
   ],
   "source": [
    "while (True):\n",
    "    n = int(input(\"Please enter the OOD number of layers: \"))\n",
    "    if (n % 2 == 1): break\n",
    "m = (n + 1) // 2\n",
    "for i in range(1, n + 1):\n",
    "    if (i > m): b = (n - i); s = 2 * (i - m) + 1\n",
    "    else: b = (i - 1); s = 2 * (m - i) + 1\n",
    "    print (\".\" * b + \"*\" * s)\n",
    "print (\"End of the program...\")"
   ]
  },
  {
   "cell_type": "code",
   "execution_count": null,
   "id": "ae195143-142d-46f2-bbc6-bf2d22d152a4",
   "metadata": {},
   "outputs": [],
   "source": [
    "# C++ Implementation\n",
    "#include <iostream>\n",
    "using namespace std;\n",
    "\n",
    "int main() {\n",
    "    int n, i, j, b, s, m;\n",
    "    cout << \"Please enter the OOD number of layers: \";\n",
    "    cin >> n;\n",
    "    m = (n + 1) / 2;\n",
    "    for (i = 1; i <= n; i++) {\n",
    "        if (i > m) {\n",
    "            b = (n - i); \n",
    "            s = 2 * (i - m) + 1;\n",
    "        } else {\n",
    "            b = (i - 1);\n",
    "            s = 2 * (m - i) + 1;\n",
    "        }\n",
    "        for (j = 1; j <= b; j++) cout << \".\";\n",
    "        for (j = 1; j <= s; j++) cout << \"*\";\n",
    "        cout << endl;\n",
    "    }\n",
    "    cout << endl << \"End of the program...\" << endl;\n",
    "    return 0;\n",
    "}"
   ]
  },
  {
   "cell_type": "code",
   "execution_count": null,
   "id": "4acd75ab-e9e6-42db-98dc-95ee13393e20",
   "metadata": {},
   "outputs": [],
   "source": [
    "Class Assignment:\n",
    "Find the sum of first n terms of the following series.\n",
    "index ->1   2   3   4   5    6   7   8   9   10   11  12  \n",
    "total = 1 + 2 + 3 + 4 + 10 + 5 + 6 + 7 + 8 + 26 + 9 + 10 + ... n terms\n",
    "\n",
    "Also find the 99-th term of the series. (Answer will be 80)\n",
    "for n = 5, total = 20\n",
    "for n = 10, total = 72\n",
    "for n = 11, total = 81"
   ]
  },
  {
   "cell_type": "code",
   "execution_count": 11,
   "id": "bb6559ce-0d96-41a5-b44c-036b7913721b",
   "metadata": {},
   "outputs": [
    {
     "name": "stdin",
     "output_type": "stream",
     "text": [
      "Please enter the number of terms:  11\n"
     ]
    },
    {
     "name": "stdout",
     "output_type": "stream",
     "text": [
      "For i = 1  and adding the term = 1\n",
      "For i = 2  and adding the term = 2\n",
      "For i = 3  and adding the term = 3\n",
      "For i = 4  and adding the term = 4\n",
      "For i = 5  and adding the temporary sum = 10\n",
      "For i = 6  and adding the term = 5\n",
      "For i = 7  and adding the term = 6\n",
      "For i = 8  and adding the term = 7\n",
      "For i = 9  and adding the term = 8\n",
      "For i = 10  and adding the temporary sum = 26\n",
      "For i = 11  and adding the term = 9\n",
      "So the final sum is 81\n",
      "End of the program...\n"
     ]
    }
   ],
   "source": [
    "n = int(input(\"Please enter the number of terms: \"))\n",
    "final_sum = 0\n",
    "temp_sum= 0\n",
    "term = 1\n",
    "for i in range(1, n + 1):\n",
    "    if (i % 5 == 0):\n",
    "        final_sum = final_sum + temp_sum\n",
    "        print (\"For i =\", i, \" and adding the temporary sum =\", temp_sum)\n",
    "        temp_sum = 0\n",
    "    else:\n",
    "        temp_sum = temp_sum + term\n",
    "        final_sum = final_sum + term\n",
    "        print (\"For i =\", i, \" and adding the term =\", term)\n",
    "        term = term + 1\n",
    "print (\"So the final sum is\", final_sum)\n",
    "print (\"End of the program...\")"
   ]
  },
  {
   "cell_type": "code",
   "execution_count": null,
   "id": "33d190f5-097a-4b27-abce-8b1d902139b6",
   "metadata": {},
   "outputs": [],
   "source": [
    "# Java Implementation\n",
    "import java.util.Scanner;\n",
    "\n",
    "public class Main {\n",
    "    public static void main(String[] args) {\n",
    "        Scanner scanner = new Scanner(System.in);\n",
    "        int n;\n",
    "        System.out.print(\"Enter the number of terms: \");\n",
    "        n = scanner.nextInt();\n",
    "        int firstsum = 0, totalsum = 0, term = 1;\n",
    "        for (int i = 1; i <= n; ++i) {\n",
    "            if (i % 5 == 0) {\n",
    "                firstsum = firstsum + totalsum;\n",
    "                totalsum = 0;\n",
    "            } else {\n",
    "                firstsum = firstsum + term;\n",
    "                totalsum = totalsum + term;\n",
    "                term = term + 1;\n",
    "            }\n",
    "        }\n",
    "        System.out.println(\"Sum of First \" + n + \" term of Series \"+ firstsum);\n",
    "    }\n",
    "}"
   ]
  },
  {
   "cell_type": "code",
   "execution_count": null,
   "id": "d1955979-1cbf-4e4f-b778-84724d3ec862",
   "metadata": {},
   "outputs": [],
   "source": [
    "# Python Implementation\n",
    "n = int(input(\"Enter the number of terms: \"))\n",
    "groups = n // 5\n",
    "maximum = 4 * groups\n",
    "ans = maximum * (maximum + 1)\n",
    "\n",
    "remaining = n - (groups * 5)\n",
    "ans += (remaining * ((2 * (maximum + 1)) + remaining - 1)) // 2\n",
    "\n",
    "print(ans)"
   ]
  },
  {
   "cell_type": "markdown",
   "id": "579bde2f-f5f2-41ac-9ad7-d69958019a00",
   "metadata": {},
   "source": [
    "### **Spiral Fill Up**"
   ]
  },
  {
   "cell_type": "code",
   "execution_count": null,
   "id": "8c887ab3-103a-4c8f-91bb-a9c7f17c130e",
   "metadata": {},
   "outputs": [],
   "source": [
    "Fill up a matrix with dimension (n x n), where n is user given integer number, with numbers ranging from 1 to n*n using\n",
    "them once in a spiral way starting from top left corner of the matrix in a clockwise direction.\n",
    "\n",
    "n = 5 (User given integer)   r => row number        r = r + rr\n",
    "                             c => column number     c = c + cc\n",
    "      0   1   2   3   4      rr => increment/decrement factor along the row (-1, 0, 1)\n",
    "--------------------------   cc => increment/decrement factor along the column (-1, 0, 1)\n",
    " 0 |  1   2   3   4   5                                                          ALGORITHM:\n",
    " 1 | 16  17  18  19   6        rr   cc          1. Limit Check: (1, 2, 3)        input n\n",
    " 2 | 15  24  25  20   7      -----------              if (c == n)                define and initialize arr[n][n] with 0\n",
    " 3 | 14  23  22  21   8         0    1                if (r == n)                initialize r, c, rr, cc\n",
    " 4 | 13  12  11  10   9         1    0                if (c == -1)               for i = 1 to n*n\n",
    "--------------------------      0   -1                                               arr[r][c] = i\n",
    "                               -1    0          2. Pre-Occupied: (4)                 update r, c\n",
    "n = 3 (User given integer)   -----------              if (arr[r][c] != 0)        end for\n",
    "                                0    1                                           display arr\n",
    "      0   1   2                                                                  end\n",
    "------------------      tt = cc     tt = rr           r = 0\n",
    " 0 |  1   2   3         cc = -rr    rr = cc           c = 0\n",
    " 1 |  8   9   4         rr = tt     cc = -tt          rr = 0\n",
    " 2 |  7   6   5                                       cc = 1\n",
    "------------------   In Python: rr, cc = cc, -rr"
   ]
  },
  {
   "cell_type": "code",
   "execution_count": 6,
   "id": "afdb91db-c874-477a-8386-9511a6c224f6",
   "metadata": {},
   "outputs": [
    {
     "name": "stdin",
     "output_type": "stream",
     "text": [
      "Please enter the dimension of the matrix:  5\n"
     ]
    },
    {
     "name": "stdout",
     "output_type": "stream",
     "text": [
      "[[0, 0, 0, 0, 0], [0, 0, 0, 0, 0], [0, 0, 0, 0, 0], [0, 0, 0, 0, 0], [0, 0, 0, 0, 0]]\n",
      "[[1, 2, 3, 4, 5], [16, 17, 18, 19, 6], [15, 24, 25, 20, 7], [14, 23, 22, 21, 8], [13, 12, 11, 10, 9]]\n",
      "    1    2    3    4    5\n",
      "   16   17   18   19    6\n",
      "   15   24   25   20    7\n",
      "   14   23   22   21    8\n",
      "   13   12   11   10    9\n",
      "End of the program...\n"
     ]
    }
   ],
   "source": [
    "n = int(input(\"Please enter the dimension of the matrix: \"))\n",
    "arr = [[0 for col in range(n)] for row in range(n)]\n",
    "print (arr)\n",
    "r = c = rr = 0; cc = 1\n",
    "for i in range(1, n * n + 1):\n",
    "    arr[r][c] = i\n",
    "    tr = r + rr\n",
    "    tc = c + cc\n",
    "    if (tc == n or tr == n or tc == -1 or arr[tr][tc] != 0):\n",
    "        # tt = cc; cc = -rr; rr = tt\n",
    "        rr, cc = cc, -rr\n",
    "    r = r + rr\n",
    "    c = c + cc\n",
    "print (arr)\n",
    "for row in range(n):\n",
    "    for col in range(n):\n",
    "        print (\"%5d\"%arr[row][col], end = \"\")\n",
    "    print (\"\")\n",
    "print (\"End of the program...\")"
   ]
  },
  {
   "cell_type": "code",
   "execution_count": null,
   "id": "f859402e-c3c7-42d0-a5d8-2107f9060f99",
   "metadata": {},
   "outputs": [],
   "source": [
    "LeetCode: 59. Spiral Matrix II (https://leetcode.com/problems/spiral-matrix-ii/)\n",
    "Given a positive integer n, generate an n x n matrix filled with elements from 1 to n2 in spiral order.\n",
    "\n",
    "Example 1:\n",
    "Input: n = 3\n",
    "Output: [[1,2,3],[8,9,4],[7,6,5]]\n",
    "\n",
    "Example 2:\n",
    "Input: n = 1\n",
    "Output: [[1]]\n",
    "\n",
    "Constraints:\n",
    "1 <= n <= 20"
   ]
  },
  {
   "cell_type": "code",
   "execution_count": 8,
   "id": "c54e5a83-d52f-498e-b66d-2750dfb71dfc",
   "metadata": {},
   "outputs": [
    {
     "name": "stdout",
     "output_type": "stream",
     "text": [
      "[[1, 2, 3], [8, 9, 4], [7, 6, 5]]\n",
      "[[1, 2, 3, 4, 5], [16, 17, 18, 19, 6], [15, 24, 25, 20, 7], [14, 23, 22, 21, 8], [13, 12, 11, 10, 9]]\n"
     ]
    }
   ],
   "source": [
    "class Solution(object):\n",
    "    def generateMatrix(self, n):\n",
    "        \"\"\"\n",
    "        :type n: int\n",
    "        :rtype: List[List[int]]\n",
    "        \"\"\"\n",
    "        arr = [[0 for col in range(n)] for row in range(n)]\n",
    "        r = c = rr = 0; cc = 1\n",
    "        for i in range(1, n * n + 1):\n",
    "            arr[r][c] = i\n",
    "            tr = r + rr\n",
    "            tc = c + cc\n",
    "            if (tc == n or tr == n or tc == -1 or arr[tr][tc] != 0):\n",
    "                rr, cc = cc, -rr\n",
    "            r = r + rr\n",
    "            c = c + cc\n",
    "        return arr\n",
    "    \n",
    "print (Solution().generateMatrix(3))\n",
    "print (Solution().generateMatrix(5))"
   ]
  },
  {
   "cell_type": "code",
   "execution_count": null,
   "id": "0f3ea9d2-53ad-4ae8-8b22-902fd9acf89d",
   "metadata": {},
   "outputs": [],
   "source": []
  },
  {
   "cell_type": "code",
   "execution_count": null,
   "id": "b1ffea65-4738-4b9d-8353-320d6c836978",
   "metadata": {},
   "outputs": [],
   "source": []
  },
  {
   "cell_type": "code",
   "execution_count": null,
   "id": "c855dff0-c68c-4758-98c6-c3c55c96ccd6",
   "metadata": {},
   "outputs": [],
   "source": []
  },
  {
   "cell_type": "code",
   "execution_count": null,
   "id": "6d2beaab-c1e0-424d-989b-c69e155e9c37",
   "metadata": {},
   "outputs": [],
   "source": []
  },
  {
   "cell_type": "code",
   "execution_count": null,
   "id": "f56a9ffd-2204-4605-ad0c-1fa38feb9bf2",
   "metadata": {},
   "outputs": [],
   "source": []
  },
  {
   "cell_type": "code",
   "execution_count": null,
   "id": "ae1f298f-706e-4150-9c1f-fe31dd3d4b81",
   "metadata": {},
   "outputs": [],
   "source": []
  },
  {
   "cell_type": "code",
   "execution_count": null,
   "id": "741b7f2d-1f0a-47e9-b384-55e7f83f8507",
   "metadata": {},
   "outputs": [],
   "source": []
  },
  {
   "cell_type": "code",
   "execution_count": null,
   "id": "0a596457-33c9-4ece-afc2-e715343d3a49",
   "metadata": {},
   "outputs": [],
   "source": []
  },
  {
   "cell_type": "code",
   "execution_count": null,
   "id": "6bb8e9f6-2ad8-4eb3-90bf-3e4975fb3ec8",
   "metadata": {},
   "outputs": [],
   "source": []
  },
  {
   "cell_type": "code",
   "execution_count": null,
   "id": "8a2d9ad1-c96e-45c9-b1f4-b6133b4fc8b2",
   "metadata": {},
   "outputs": [],
   "source": []
  },
  {
   "cell_type": "code",
   "execution_count": null,
   "id": "cd90d153-dafc-416c-880e-6061b79072d4",
   "metadata": {},
   "outputs": [],
   "source": []
  },
  {
   "cell_type": "code",
   "execution_count": null,
   "id": "21d71c01-6dda-4dd3-832d-fe6866452a62",
   "metadata": {},
   "outputs": [],
   "source": []
  },
  {
   "cell_type": "code",
   "execution_count": null,
   "id": "c47fcbdf-5a28-4153-83f3-ca2e11457549",
   "metadata": {},
   "outputs": [],
   "source": []
  },
  {
   "cell_type": "code",
   "execution_count": null,
   "id": "2685e84a-62dd-4643-b641-fd4b8a8823e7",
   "metadata": {},
   "outputs": [],
   "source": []
  },
  {
   "cell_type": "code",
   "execution_count": null,
   "id": "d235ac96-8943-4321-ae7a-6bb12ede12fa",
   "metadata": {},
   "outputs": [],
   "source": []
  }
 ],
 "metadata": {
  "kernelspec": {
   "display_name": "Python 3",
   "language": "python",
   "name": "python3"
  },
  "language_info": {
   "codemirror_mode": {
    "name": "ipython",
    "version": 3
   },
   "file_extension": ".py",
   "mimetype": "text/x-python",
   "name": "python",
   "nbconvert_exporter": "python",
   "pygments_lexer": "ipython3",
   "version": "3.8.8"
  }
 },
 "nbformat": 4,
 "nbformat_minor": 5
}
