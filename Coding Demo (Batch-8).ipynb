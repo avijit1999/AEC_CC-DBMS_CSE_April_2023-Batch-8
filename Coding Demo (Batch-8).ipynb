{
 "cells": [
  {
   "cell_type": "code",
   "execution_count": null,
   "id": "be5bcfb7-70d1-46ff-8ab9-191bbdf16a69",
   "metadata": {},
   "outputs": [],
   "source": [
    "Find out all possible 3-digit Triode Numbers. Let x be a Triode number, than x, 2x and 3x will have all distinct digits.\n",
    "As example -\n",
    "  x = 219\n",
    "2*x = 438\n",
    "3*x = 657\n",
    "So 219 is one of the Triode Numbers.\n",
    "\n",
    "Do it in any programming language."
   ]
  },
  {
   "cell_type": "code",
   "execution_count": null,
   "id": "3342fa11-d0ff-423b-8ed5-748f22f0346c",
   "metadata": {},
   "outputs": [],
   "source": [
    "for x in range(102, 498):\n",
    "    digits = [0 for i in range(10)]\n",
    "    flag = 1\n",
    "    for i in range(1, 4):\n",
    "        num = i * x\n",
    "        while (num != 0):\n",
    "            last_digit = num % 10\n",
    "            if (digits[last_digit] != 0):\n",
    "                flag = 0\n",
    "                break\n",
    "            else:\n",
    "                digits[last_digit] = 1\n",
    "                num = num // 10\n",
    "        if (flag == 0): break\n",
    "    if (flag == 1): print (x, 2 *x , 3 * x)\n",
    "print (\"End of the program...\")"
   ]
  },
  {
   "cell_type": "code",
   "execution_count": null,
   "id": "aea442e6-b586-423b-9a96-37f60e922191",
   "metadata": {},
   "outputs": [],
   "source": [
    "# C++ Implementation\n",
    "#include <iostream>\n",
    "#include <vector>\n",
    "int main() {\n",
    "    std::cout << \"Triode Numbers :-\\n\";\n",
    "\n",
    "    for (int i = 102; i <= 498; ++i) {\n",
    "        bool is_triode = true;\n",
    "        std::vector<bool> digit_is_present(10, false);\n",
    "        for (int j = i; j <= (3 * i); j += i) {\n",
    "            int x = j;\n",
    "            while (x > 0) {\n",
    "                if (digit_is_present[x % 10]) {\n",
    "                    is_triode = false;\n",
    "                    goto end_of_current_iteration;\n",
    "                }\n",
    "                digit_is_present[x % 10] = true;\n",
    "                x /= 10;\n",
    "            }\n",
    "        }\n",
    "        if (is_triode)\n",
    "            std::cout << i << '\\n';\n",
    "        end_of_current_iteration: ;\n",
    "    }\n",
    "    return 0;\n",
    "}"
   ]
  },
  {
   "cell_type": "code",
   "execution_count": null,
   "id": "be160e77-a785-4e22-8279-de177818a0c0",
   "metadata": {},
   "outputs": [],
   "source": [
    "Class Assignment:\n",
    "Programming Assignment - 1 (10 Minutes)\n",
    "Print the following pattern for user given ODD value for n.\n",
    "For n = 11\n",
    "\n",
    "***********\n",
    ".*********\n",
    "..*******\n",
    "...*****\n",
    "....***\n",
    ".....*\n",
    "....***\n",
    "...*****\n",
    "..*******\n",
    ".*********\n",
    "***********"
   ]
  },
  {
   "cell_type": "code",
   "execution_count": null,
   "id": "a1d83860-032c-4e92-9b8a-8d6b01aa2808",
   "metadata": {},
   "outputs": [],
   "source": [
    "# C++ Implementation\n",
    "#include <iostream>\n",
    "#include <string>\n",
    "    \n",
    "int main() {\n",
    "    int n;\n",
    "    while (true) {\n",
    "        std::cout << \" enter a Odd number : \";\n",
    "        std::cin >> n;\n",
    "        if (n % 2 == 1) {\n",
    "            break;\n",
    "        }\n",
    "    }\n",
    "    int m = (n + 1) / 2;\n",
    "    for (int i = 1; i <= n; ++i) {\n",
    "        int b, s;\n",
    "        if (i > m) {\n",
    "            b = (n - i);\n",
    "            s = 2 * (i - m) + 1;\n",
    "        } else {\n",
    "            b = (i - 1);\n",
    "            s = 2 * (m - i) + 1;\n",
    "        }\n",
    "        std::string dots(b, '.');\n",
    "        std::string asterisks(s, '*');\n",
    "        std::cout << dots << asterisks << std::endl;\n",
    "    }       \n",
    "    return 0;\n",
    "}"
   ]
  },
  {
   "cell_type": "code",
   "execution_count": 3,
   "id": "dc31f450-3ce1-4165-b67e-cb3c25c2c413",
   "metadata": {},
   "outputs": [
    {
     "name": "stdout",
     "output_type": "stream",
     "text": [
      "Hello Hello Hello Hello \n",
      "Welcome Welcome Welcome Welcome Welcome Welcome Welcome \n"
     ]
    }
   ],
   "source": [
    "print (\"Hello \" * 4)\n",
    "print (\"Welcome \" * 7)"
   ]
  },
  {
   "cell_type": "code",
   "execution_count": null,
   "id": "10a6224b-6757-432c-ac72-d4bdf0bdc15d",
   "metadata": {},
   "outputs": [],
   "source": [
    "For n = 11  m = (n + 1) // 2 = 6\n",
    "\n",
    "                 i    .    *\n",
    "              -----------------\n",
    "***********      1    0   11        (i, m, n)\n",
    ".*********       2    1    9   . => (i - 1)\n",
    "..*******        3    2    7\n",
    "...*****         4    3    5   * => 2 * (m - i) + 1\n",
    "....***          5    4    3\n",
    ".....*        ___6____5____1___\n",
    "....***          7    4    3\n",
    "...*****         8    3    5   . => (n - i)\n",
    "..*******        9    2    7\n",
    ".*********      10    1    9   * => 2 * (i - m) + 1\n",
    "***********     11    0   11\n",
    "              -----------------"
   ]
  },
  {
   "cell_type": "code",
   "execution_count": 8,
   "id": "b62a891d-e196-4883-aed7-fb53dae6866e",
   "metadata": {},
   "outputs": [
    {
     "name": "stdin",
     "output_type": "stream",
     "text": [
      "Please enter the OOD number of layers:  14\n",
      "Please enter the OOD number of layers:  12\n",
      "Please enter the OOD number of layers:  10\n",
      "Please enter the OOD number of layers:  8\n",
      "Please enter the OOD number of layers:  16\n",
      "Please enter the OOD number of layers:  11\n"
     ]
    },
    {
     "name": "stdout",
     "output_type": "stream",
     "text": [
      "***********\n",
      ".*********\n",
      "..*******\n",
      "...*****\n",
      "....***\n",
      ".....*\n",
      "....***\n",
      "...*****\n",
      "..*******\n",
      ".*********\n",
      "***********\n",
      "End of the program...\n"
     ]
    }
   ],
   "source": [
    "while (True):\n",
    "    n = int(input(\"Please enter the OOD number of layers: \"))\n",
    "    if (n % 2 == 1): break\n",
    "m = (n + 1) // 2\n",
    "for i in range(1, n + 1):\n",
    "    if (i > m): b = (n - i); s = 2 * (i - m) + 1\n",
    "    else: b = (i - 1); s = 2 * (m - i) + 1\n",
    "    print (\".\" * b + \"*\" * s)\n",
    "print (\"End of the program...\")"
   ]
  },
  {
   "cell_type": "code",
   "execution_count": null,
   "id": "ae195143-142d-46f2-bbc6-bf2d22d152a4",
   "metadata": {},
   "outputs": [],
   "source": [
    "# C++ Implementation\n",
    "#include <iostream>\n",
    "using namespace std;\n",
    "\n",
    "int main() {\n",
    "    int n, i, j, b, s, m;\n",
    "    cout << \"Please enter the OOD number of layers: \";\n",
    "    cin >> n;\n",
    "    m = (n + 1) / 2;\n",
    "    for (i = 1; i <= n; i++) {\n",
    "        if (i > m) {\n",
    "            b = (n - i); \n",
    "            s = 2 * (i - m) + 1;\n",
    "        } else {\n",
    "            b = (i - 1);\n",
    "            s = 2 * (m - i) + 1;\n",
    "        }\n",
    "        for (j = 1; j <= b; j++) cout << \".\";\n",
    "        for (j = 1; j <= s; j++) cout << \"*\";\n",
    "        cout << endl;\n",
    "    }\n",
    "    cout << endl << \"End of the program...\" << endl;\n",
    "    return 0;\n",
    "}"
   ]
  },
  {
   "cell_type": "code",
   "execution_count": null,
   "id": "4acd75ab-e9e6-42db-98dc-95ee13393e20",
   "metadata": {},
   "outputs": [],
   "source": [
    "Class Assignment:\n",
    "Find the sum of first n terms of the following series.\n",
    "index ->1   2   3   4   5    6   7   8   9   10   11  12  \n",
    "total = 1 + 2 + 3 + 4 + 10 + 5 + 6 + 7 + 8 + 26 + 9 + 10 + ... n terms\n",
    "\n",
    "Also find the 99-th term of the series. (Answer will be 80)\n",
    "for n = 5, total = 20\n",
    "for n = 10, total = 72\n",
    "for n = 11, total = 81"
   ]
  },
  {
   "cell_type": "code",
   "execution_count": 11,
   "id": "bb6559ce-0d96-41a5-b44c-036b7913721b",
   "metadata": {},
   "outputs": [
    {
     "name": "stdin",
     "output_type": "stream",
     "text": [
      "Please enter the number of terms:  11\n"
     ]
    },
    {
     "name": "stdout",
     "output_type": "stream",
     "text": [
      "For i = 1  and adding the term = 1\n",
      "For i = 2  and adding the term = 2\n",
      "For i = 3  and adding the term = 3\n",
      "For i = 4  and adding the term = 4\n",
      "For i = 5  and adding the temporary sum = 10\n",
      "For i = 6  and adding the term = 5\n",
      "For i = 7  and adding the term = 6\n",
      "For i = 8  and adding the term = 7\n",
      "For i = 9  and adding the term = 8\n",
      "For i = 10  and adding the temporary sum = 26\n",
      "For i = 11  and adding the term = 9\n",
      "So the final sum is 81\n",
      "End of the program...\n"
     ]
    }
   ],
   "source": [
    "n = int(input(\"Please enter the number of terms: \"))\n",
    "final_sum = 0\n",
    "temp_sum= 0\n",
    "term = 1\n",
    "for i in range(1, n + 1):\n",
    "    if (i % 5 == 0):\n",
    "        final_sum = final_sum + temp_sum\n",
    "        print (\"For i =\", i, \" and adding the temporary sum =\", temp_sum)\n",
    "        temp_sum = 0\n",
    "    else:\n",
    "        temp_sum = temp_sum + term\n",
    "        final_sum = final_sum + term\n",
    "        print (\"For i =\", i, \" and adding the term =\", term)\n",
    "        term = term + 1\n",
    "print (\"So the final sum is\", final_sum)\n",
    "print (\"End of the program...\")"
   ]
  },
  {
   "cell_type": "code",
   "execution_count": null,
   "id": "33d190f5-097a-4b27-abce-8b1d902139b6",
   "metadata": {},
   "outputs": [],
   "source": [
    "# Java Implementation\n",
    "import java.util.Scanner;\n",
    "\n",
    "public class Main {\n",
    "    public static void main(String[] args) {\n",
    "        Scanner scanner = new Scanner(System.in);\n",
    "        int n;\n",
    "        System.out.print(\"Enter the number of terms: \");\n",
    "        n = scanner.nextInt();\n",
    "        int firstsum = 0, totalsum = 0, term = 1;\n",
    "        for (int i = 1; i <= n; ++i) {\n",
    "            if (i % 5 == 0) {\n",
    "                firstsum = firstsum + totalsum;\n",
    "                totalsum = 0;\n",
    "            } else {\n",
    "                firstsum = firstsum + term;\n",
    "                totalsum = totalsum + term;\n",
    "                term = term + 1;\n",
    "            }\n",
    "        }\n",
    "        System.out.println(\"Sum of First \" + n + \" term of Series \"+ firstsum);\n",
    "    }\n",
    "}"
   ]
  },
  {
   "cell_type": "code",
   "execution_count": null,
   "id": "d1955979-1cbf-4e4f-b778-84724d3ec862",
   "metadata": {},
   "outputs": [],
   "source": [
    "# Python Implementation\n",
    "n = int(input(\"Enter the number of terms: \"))\n",
    "groups = n // 5\n",
    "maximum = 4 * groups\n",
    "ans = maximum * (maximum + 1)\n",
    "\n",
    "remaining = n - (groups * 5)\n",
    "ans += (remaining * ((2 * (maximum + 1)) + remaining - 1)) // 2\n",
    "\n",
    "print(ans)"
   ]
  },
  {
   "cell_type": "markdown",
   "id": "579bde2f-f5f2-41ac-9ad7-d69958019a00",
   "metadata": {},
   "source": [
    "### **Spiral Fill Up**"
   ]
  },
  {
   "cell_type": "code",
   "execution_count": null,
   "id": "8c887ab3-103a-4c8f-91bb-a9c7f17c130e",
   "metadata": {},
   "outputs": [],
   "source": [
    "Fill up a matrix with dimension (n x n), where n is user given integer number, with numbers ranging from 1 to n*n using\n",
    "them once in a spiral way starting from top left corner of the matrix in a clockwise direction.\n",
    "\n",
    "n = 5 (User given integer)   r => row number        r = r + rr\n",
    "                             c => column number     c = c + cc\n",
    "      0   1   2   3   4      rr => increment/decrement factor along the row (-1, 0, 1)\n",
    "--------------------------   cc => increment/decrement factor along the column (-1, 0, 1)\n",
    " 0 |  1   2   3   4   5                                                          ALGORITHM:\n",
    " 1 | 16  17  18  19   6        rr   cc          1. Limit Check: (1, 2, 3)        input n\n",
    " 2 | 15  24  25  20   7      -----------              if (c == n)                define and initialize arr[n][n] with 0\n",
    " 3 | 14  23  22  21   8         0    1                if (r == n)                initialize r, c, rr, cc\n",
    " 4 | 13  12  11  10   9         1    0                if (c == -1)               for i = 1 to n*n\n",
    "--------------------------      0   -1                                               arr[r][c] = i\n",
    "                               -1    0          2. Pre-Occupied: (4)                 update r, c\n",
    "n = 3 (User given integer)   -----------              if (arr[r][c] != 0)        end for\n",
    "                                0    1                                           display arr\n",
    "      0   1   2                                                                  end\n",
    "------------------      tt = cc     tt = rr           r = 0\n",
    " 0 |  1   2   3         cc = -rr    rr = cc           c = 0\n",
    " 1 |  8   9   4         rr = tt     cc = -tt          rr = 0\n",
    " 2 |  7   6   5                                       cc = 1\n",
    "------------------   In Python: rr, cc = cc, -rr"
   ]
  },
  {
   "cell_type": "code",
   "execution_count": 6,
   "id": "afdb91db-c874-477a-8386-9511a6c224f6",
   "metadata": {},
   "outputs": [
    {
     "name": "stdin",
     "output_type": "stream",
     "text": [
      "Please enter the dimension of the matrix:  5\n"
     ]
    },
    {
     "name": "stdout",
     "output_type": "stream",
     "text": [
      "[[0, 0, 0, 0, 0], [0, 0, 0, 0, 0], [0, 0, 0, 0, 0], [0, 0, 0, 0, 0], [0, 0, 0, 0, 0]]\n",
      "[[1, 2, 3, 4, 5], [16, 17, 18, 19, 6], [15, 24, 25, 20, 7], [14, 23, 22, 21, 8], [13, 12, 11, 10, 9]]\n",
      "    1    2    3    4    5\n",
      "   16   17   18   19    6\n",
      "   15   24   25   20    7\n",
      "   14   23   22   21    8\n",
      "   13   12   11   10    9\n",
      "End of the program...\n"
     ]
    }
   ],
   "source": [
    "n = int(input(\"Please enter the dimension of the matrix: \"))\n",
    "arr = [[0 for col in range(n)] for row in range(n)]\n",
    "print (arr)\n",
    "r = c = rr = 0; cc = 1\n",
    "for i in range(1, n * n + 1):\n",
    "    arr[r][c] = i\n",
    "    tr = r + rr\n",
    "    tc = c + cc\n",
    "    if (tc == n or tr == n or tc == -1 or arr[tr][tc] != 0):\n",
    "        # tt = cc; cc = -rr; rr = tt\n",
    "        rr, cc = cc, -rr\n",
    "    r = r + rr\n",
    "    c = c + cc\n",
    "print (arr)\n",
    "for row in range(n):\n",
    "    for col in range(n):\n",
    "        print (\"%5d\"%arr[row][col], end = \"\")\n",
    "    print (\"\")\n",
    "print (\"End of the program...\")"
   ]
  },
  {
   "cell_type": "code",
   "execution_count": null,
   "id": "50767e67-a550-4a2f-a628-1c979e198126",
   "metadata": {},
   "outputs": [],
   "source": [
    "# Java Implementation\n",
    "//J ava implementation of Spiral Matrix\n",
    "public class Main {\n",
    "    public static void main(String[] args) {\n",
    "        int n = 5;\n",
    "        int[][] matrix = new int[n][n];\n",
    "\n",
    "        int r = 0, c = 0, rr = 0, cc = 1;\n",
    "        for (int i = 1; i <= n * n; i++) {\n",
    "            matrix[r][c] = i;\n",
    "            int tr = r + rr;\n",
    "            int tc = c + cc;\n",
    "            if (tc == n || tr == n || tc == -1 || matrix[tr][tc] != 0) {\n",
    "                int temp = cc;\n",
    "                cc = -rr;\n",
    "                rr = temp;\n",
    "            }\n",
    "            r += rr;\n",
    "            c += cc;\n",
    "        }\n",
    "\n",
    "        for (int i = 0; i < n; i++) {\n",
    "            for (int j = 0; j < n; j++) {\n",
    "                System.out.print(matrix[i][j] + \" \");\n",
    "            }\n",
    "            System.out.println();\n",
    "        }\n",
    "    }\n",
    "}"
   ]
  },
  {
   "cell_type": "code",
   "execution_count": null,
   "id": "4d1ac379-3b7e-4862-b7fb-fca51a4c6b1b",
   "metadata": {},
   "outputs": [],
   "source": [
    "# Java Implementation\n",
    "public class Main {\n",
    "    public int[][] generateMatrix(int n) {\n",
    "        int[][] arr = new int[n][n];\n",
    "        int r = 0, c = 0, rr = 0, cc = 1;\n",
    "        for (int i = 1; i <= n * n; i++) {\n",
    "            arr[r][c] = i;\n",
    "            int tr = r + rr;\n",
    "            int tc = c + cc;\n",
    "            if (tc == n || tr == n || tc == -1 || arr[tr][tc] != 0) {\n",
    "                int temp = cc;\n",
    "                cc = -rr;\n",
    "                rr = temp;\n",
    "            }\n",
    "            r += rr;\n",
    "            c += cc;\n",
    "        }\n",
    "        return arr;\n",
    "    }\n",
    "    \n",
    "    public static void main(String[] args) {\n",
    "        Main s = new Main();\n",
    "        int[][] arr1 = s.generateMatrix(3);\n",
    "        int[][] arr2 = s.generateMatrix(5);\n",
    "\n",
    "       System.out.println(\"For n = 3\");\n",
    "        for (int i = 0; i < arr1.length; i++) {\n",
    "            for (int j = 0; j < arr1[i].length; j++) {\n",
    "                System.out.print(arr1[i][j] + \" \");\n",
    "            }\n",
    "            System.out.print(\"\\n\");\n",
    "        }\n",
    "\n",
    "       System.out.println(\"For n = 5\");\n",
    "        for (int i = 0; i < arr2.length; i++) {\n",
    "            for (int j = 0; j < arr2[i].length; j++) {\n",
    "                System.out.print(arr2[i][j] + \" \");\n",
    "            }\n",
    "            System.out.print(\"\\n\");\n",
    "        }\n",
    "    }\n",
    "}"
   ]
  },
  {
   "cell_type": "code",
   "execution_count": null,
   "id": "f859402e-c3c7-42d0-a5d8-2107f9060f99",
   "metadata": {},
   "outputs": [],
   "source": [
    "LeetCode: 59. Spiral Matrix II (https://leetcode.com/problems/spiral-matrix-ii/)\n",
    "Given a positive integer n, generate an n x n matrix filled with elements from 1 to n2 in spiral order.\n",
    "\n",
    "Example 1:\n",
    "Input: n = 3\n",
    "Output: [[1,2,3],[8,9,4],[7,6,5]]\n",
    "\n",
    "Example 2:\n",
    "Input: n = 1\n",
    "Output: [[1]]\n",
    "\n",
    "Constraints:\n",
    "1 <= n <= 20"
   ]
  },
  {
   "cell_type": "code",
   "execution_count": 8,
   "id": "c54e5a83-d52f-498e-b66d-2750dfb71dfc",
   "metadata": {},
   "outputs": [
    {
     "name": "stdout",
     "output_type": "stream",
     "text": [
      "[[1, 2, 3], [8, 9, 4], [7, 6, 5]]\n",
      "[[1, 2, 3, 4, 5], [16, 17, 18, 19, 6], [15, 24, 25, 20, 7], [14, 23, 22, 21, 8], [13, 12, 11, 10, 9]]\n"
     ]
    }
   ],
   "source": [
    "class Solution(object):\n",
    "    def generateMatrix(self, n):\n",
    "        \"\"\"\n",
    "        :type n: int\n",
    "        :rtype: List[List[int]]\n",
    "        \"\"\"\n",
    "        arr = [[0 for col in range(n)] for row in range(n)]\n",
    "        r = c = rr = 0; cc = 1\n",
    "        for i in range(1, n * n + 1):\n",
    "            arr[r][c] = i\n",
    "            tr = r + rr\n",
    "            tc = c + cc\n",
    "            if (tc == n or tr == n or tc == -1 or arr[tr][tc] != 0):\n",
    "                rr, cc = cc, -rr\n",
    "            r = r + rr\n",
    "            c = c + cc\n",
    "        return arr\n",
    "    \n",
    "print (Solution().generateMatrix(3))\n",
    "print (Solution().generateMatrix(5))"
   ]
  },
  {
   "cell_type": "code",
   "execution_count": null,
   "id": "0f3ea9d2-53ad-4ae8-8b22-902fd9acf89d",
   "metadata": {},
   "outputs": [],
   "source": [
    "LeetCode: 54. Spiral Matrix (https://leetcode.com/problems/spiral-matrix/)\n",
    "Given an m x n matrix, return all elements of the matrix in spiral order.\n",
    "\n",
    "Example 1:\n",
    "Input: matrix = [[1,2,3],[4,5,6],[7,8,9]]\n",
    "Output: [1,2,3,6,9,8,7,4,5]\n",
    "\n",
    "Example 2:\n",
    "Input: matrix = [[1,2,3,4],[5,6,7,8],[9,10,11,12]]\n",
    "Output: [1,2,3,4,8,12,11,10,9,5,6,7]\n",
    "\n",
    "Constraints:\n",
    "m == matrix.length\n",
    "n == matrix[i].length\n",
    "1 <= m, n <= 10\n",
    "-100 <= matrix[i][j] <= 100"
   ]
  },
  {
   "cell_type": "code",
   "execution_count": 9,
   "id": "b1ffea65-4738-4b9d-8353-320d6c836978",
   "metadata": {},
   "outputs": [
    {
     "name": "stdout",
     "output_type": "stream",
     "text": [
      "[1, 2, 3, 4, 8, 12, 11, 10, 9, 5, 6, 7]\n"
     ]
    }
   ],
   "source": [
    "class Solution(object):\n",
    "    def spiralOrder(self, matrix):\n",
    "        \"\"\"\n",
    "        :type matrix: List[List[int]]\n",
    "        :rtype: List[int]\n",
    "        \"\"\"\n",
    "        max_row = len(matrix)\n",
    "        max_col = len(matrix[0])\n",
    "        if (max_row == 0): return []\n",
    "        arr1 = [0 for i in range(max_row * max_col)]\n",
    "        rr = 0; cc = 1; r = 0; c = 0\n",
    "        min_row = min_col = -1\n",
    "        for i in range(max_row * max_col):\n",
    "            arr1[i] = matrix[r][c]\n",
    "            tr = r + rr; tc = c + cc\n",
    "            if (tc == max_col or tr == max_row or tc == min_col or tr == min_row):\n",
    "                rr, cc = cc, -rr\n",
    "                # tt = cc; cc = -rr; rr = tt\n",
    "                if (tc == max_col): min_row += 1\n",
    "                elif (tr == max_row): max_col -= 1\n",
    "                elif (tc == min_col): max_row -= 1\n",
    "                elif (tr == min_row): min_col += 1\n",
    "            r = r + rr; c = c + cc\n",
    "        return arr1\n",
    "        \n",
    "print (Solution().spiralOrder([[1,2,3,4],[5,6,7,8],[9,10,11,12]]))\n",
    "# Output: [1,2,3,4,8,12,11,10,9,5,6,7]"
   ]
  },
  {
   "cell_type": "markdown",
   "id": "a41eb3a8-df36-496f-a750-3893b13e18a9",
   "metadata": {},
   "source": [
    "### **Magic Square**"
   ]
  },
  {
   "cell_type": "code",
   "execution_count": null,
   "id": "6d2beaab-c1e0-424d-989b-c69e155e9c37",
   "metadata": {},
   "outputs": [],
   "source": [
    "Fill up one Matrix with dimension nxn (where n is an odd integer number supplied by the user), with numbers ranging from \n",
    "1 to n^2 using them once only in such a way that, all row-wise, column-wise and diagonal-wise sums are equal to each other.\n",
    "The matrix thus obtained is called as a Magic Square and the sum thus obtained is called magic sum.\n",
    "                                *   *   *    r => row number, c => column number\n",
    "n = 5 (Odd integer)            **  **  **    r = 0, c = n // 2\n",
    "      0   1   2   3   4       * * * * * * *  \n",
    "--------------------------   *  **  **  **   r -= 1, c += 1\n",
    " 0 | 17  24   1   8  15     *   *   *   *\n",
    " 1 | 23   5   7  14  16                                 Limit Check\n",
    " 2 |  4   6  13  20  22     ALGORITHM                (3/2) 1. (row-wise folding) if (r == -1) then r = n - 1\n",
    " 3 | 10  12  19  21   3     ---------                (2/3) 2. (col-wise folding) if (c == n) then c = 0\n",
    " 4 | 11  18  25   2   9     initialize r, c            (1) 3. (corner logic) if (r == -1 and c == n) then r = r + 2, c = c - 1\n",
    "--------------------------  define and initialize the 2D array a\n",
    "Magic sum = 65              for i = 1 to n*n            Pre-Occupied Check\n",
    "n = 3 (Odd integer)            a[r][c] = i             (4) 1. if (a[r][c] != 0) then r = r + 2, c = c - 1\n",
    "      0   1   2                update r and c\n",
    "-----------------           end for                     n   msum\n",
    " 0 |  8   1   6             display array a           ------------  \n",
    " 1 |  3   5   7             end                         3   15\n",
    " 2 |  4   9   2                                         5   65\n",
    "-----------------                                       7   175\n",
    "Magic sum = 15                                          n   ??? = n * (1 + n*n) // 2\n",
    "                                                      ------------"
   ]
  },
  {
   "cell_type": "code",
   "execution_count": 22,
   "id": "f56a9ffd-2204-4605-ad0c-1fa38feb9bf2",
   "metadata": {},
   "outputs": [
    {
     "name": "stdin",
     "output_type": "stream",
     "text": [
      "Please enter the ODD dimension of the matrix:  5\n"
     ]
    },
    {
     "name": "stdout",
     "output_type": "stream",
     "text": [
      "So the pre-calculated magic sum is: 65\n",
      "   17   24    1    8   15\n",
      "   23    5    7   14   16\n",
      "    4    6   13   20   22\n",
      "   10   12   19   21    3\n",
      "   11   18   25    2    9\n",
      "So the post-calculated magic sum is: 65\n",
      "End of the program...\n"
     ]
    }
   ],
   "source": [
    "# implementing Magic Square\n",
    "while(True):\n",
    "    n = int(input(\"Please enter the ODD dimension of the matrix: \"))\n",
    "    if (n % 2 == 1): break\n",
    "print (\"So the pre-calculated magic sum is:\", n * (1 + n*n) // 2)\n",
    "arr1 = [[0 for row in range(n)] for col in range(n)]\n",
    "# print (arr1)\n",
    "r = 0; c = n // 2\n",
    "msum = 0\n",
    "for i in range(1, n**2 + 1):\n",
    "    arr1[r][c] = i\n",
    "    if (r == c): msum += arr1[r][c]\n",
    "    r -= 1; c += 1\n",
    "    if (r == -1 and c == n): r = r + 2; c = c - 1   # (corner logic)\n",
    "    elif (r == -1): r = n - 1   # (row-wise folding)\n",
    "    elif (c == n): c = 0   # (col-wise folding)\n",
    "    elif (arr1[r][c] != 0): r = r + 2; c = c - 1   # (Pre-Occupied Check)\n",
    "        \n",
    "# print (arr1)\n",
    "for row in range(n):\n",
    "    for col in range(n):\n",
    "        print (\"%5d\"%arr1[row][col], end = \"\")\n",
    "    print (\"\")\n",
    "print (\"So the post-calculated magic sum is:\", msum)\n",
    "print (\"End of the program...\")"
   ]
  },
  {
   "cell_type": "code",
   "execution_count": null,
   "id": "ae1f298f-706e-4150-9c1f-fe31dd3d4b81",
   "metadata": {},
   "outputs": [],
   "source": [
    "# Java Implementation\n",
    "import java.util.Scanner;\n",
    "\n",
    "public class Main {\n",
    "    public static void main(String[] args) {\n",
    "        Scanner sc = new Scanner(System.in);\n",
    "        System.out.print(\"Enter the size of the magic square: \");\n",
    "        int n = sc.nextInt();\n",
    "        if (n % 2 == 0) {\n",
    "            System.out.println(\"Magic square cannot be formed for even number.\");\n",
    "            System.exit(0);\n",
    "        }\n",
    "        int[][] magicSquare = new int[n][n];\n",
    "        int row = 0;\n",
    "        int col = n / 2;\n",
    "        int num = 1;\n",
    "        while (num <= n * n) {\n",
    "            magicSquare[row][col] = num;\n",
    "            num++;\n",
    "            int nextRow = (row - 1 + n) % n;\n",
    "            int nextCol = (col + 1) % n;\n",
    "            if (magicSquare[nextRow][nextCol] != 0) {\n",
    "                row = (row + 1) % n;\n",
    "            } else {\n",
    "                row = nextRow;\n",
    "                col = nextCol;\n",
    "            }\n",
    "        }\n",
    "        int magicSum = n * (n * n + 1) / 2;\n",
    "        System.out.println(\"Magic sum: \" + magicSum);\n",
    "        System.out.println(\"Magic square:\");\n",
    "        for (int i = 0; i < n; i++) {\n",
    "            for (int j = 0; j < n; j++) {\n",
    "                System.out.print(magicSquare[i][j] + \"\\t\");\n",
    "            }\n",
    "            System.out.println();\n",
    "        }\n",
    "    }\n",
    "}"
   ]
  },
  {
   "cell_type": "markdown",
   "id": "f59acf45-a244-4ba2-ab6b-e31123f4b0de",
   "metadata": {},
   "source": [
    "### **Bit Manipulation**"
   ]
  },
  {
   "cell_type": "code",
   "execution_count": 26,
   "id": "0a596457-33c9-4ece-afc2-e715343d3a49",
   "metadata": {},
   "outputs": [
    {
     "name": "stdout",
     "output_type": "stream",
     "text": [
      "data1 = 100 and data2 = 50...\n",
      "100 | 50 = 118\n",
      "100 & 50 = 32\n",
      "100 ^ 50 = 86\n"
     ]
    }
   ],
   "source": [
    "# Bit manipulation operators: & | ~ (1's Complement) ^ (xor), >> (right shift), << (left shift), >>> (arithmetic shift right)\n",
    "data1 = 100    # 100 = 64 + 32 + 4 = 0110 0100\n",
    "data2 = 50     # 50 = 32 + 16 + 2  = 0011 0010                              #  x   y   z   x xor y xor z\n",
    "                                                                            #-----------------------------\n",
    "print (f\"data1 = {data1} and data2 = {data2}...\")                           #  0   0   0      0\n",
    "                                                                            #  0   0   1      1\n",
    "data3 = data1 | data2    # data1 = 0110 0100                                #  0   1   0      1\n",
    "                         # data2 = 0011 0010                                #  0   1   1      0\n",
    "                         #         ---------                                #  1   0   0      1\n",
    "                         #       | 0111 0110 => 64 + 32 + 16 + 4 + 2 = 118  #  1   0   1      0\n",
    "print (f\"{data1} | {data2} = {data3}\")                                      #  1   1   0      0\n",
    "                                                                            #  1   1   1      1\n",
    "data3 = data1 & data2    # data1 = 0110 0100                                #-----------------------------\n",
    "                         # data2 = 0011 0010\n",
    "                         #         ---------\n",
    "                         #       & 0010 0000 => 32\n",
    "print (f\"{data1} & {data2} = {data3}\")\n",
    "\n",
    "data3 = data1 ^ data2    # data1 = 0110 0100\n",
    "                         # data2 = 0011 0010\n",
    "                         #         ---------\n",
    "                         #       ^ 0101 0110 => 64 + 16 + 4 + 2 = 86\n",
    "print (f\"{data1} ^ {data2} = {data3}\") \n"
   ]
  },
  {
   "cell_type": "code",
   "execution_count": 27,
   "id": "b6edbaed-2850-4495-b91c-2d6fec5ce6c6",
   "metadata": {},
   "outputs": [
    {
     "name": "stdout",
     "output_type": "stream",
     "text": [
      "data4 = 1 and data5 = -2...\n"
     ]
    }
   ],
   "source": [
    "data4 = 1             # 0000 0001\n",
    "data5 = ~data4        # 1111 1110 = 254 (unsigned integer) = -2 (signed integer)\n",
    "                      # 0000 0001 + 1 = 0000 0010 (2's complement = 1's complement + 1)\n",
    "    \n",
    "print (f\"data4 = {data4} and data5 = {data5}...\")"
   ]
  },
  {
   "cell_type": "code",
   "execution_count": 28,
   "id": "851007a2-0c73-4623-a17a-524ddacb2636",
   "metadata": {},
   "outputs": [
    {
     "name": "stdout",
     "output_type": "stream",
     "text": [
      "data4 = -10 and data5 = 9...\n"
     ]
    }
   ],
   "source": [
    "data4 = -10     # -10 = 2's complement of 0000 1010 = 1111 0101 + 1 = 1111 0110       1111 0110 (-10)\n",
    "data5 = ~data4  # ~1111 0110 = 0000 1001 => 9                                       + 0000 1010 (+10)\n",
    "                                                                                  #   ---------\n",
    "print (f\"data4 = {data4} and data5 = {data5}...\")                                 # 1 0000 0000 (0)"
   ]
  },
  {
   "cell_type": "code",
   "execution_count": 33,
   "id": "7b90e0be-6896-44f1-84ef-d099493a665f",
   "metadata": {},
   "outputs": [
    {
     "name": "stdout",
     "output_type": "stream",
     "text": [
      "data1 = 100 and data2 = 400...\n",
      "data1 = 100 and data2 = 25...\n"
     ]
    }
   ],
   "source": [
    "data1 = 100          # 100 = 0110 0100\n",
    "n = 2\n",
    "data2 = data1 << n   # 0110 0100 << 2 => 0110 0100 00 => 01 1001 0000 => 256 + 128 + 16 = 400 = 100 * 4 = 100 * 2^n\n",
    "print (f\"data1 = {data1} and data2 = {data2}...\")\n",
    "\n",
    "data1 = 100          # 100 = 0110 0100\n",
    "n = 2\n",
    "data2 = data1 >> n   # 0110 0100 >> 2 => 0110 01 => 0001 1001 => 16 + 8 + 1 = 25 = 100 / 2^n\n",
    "print (f\"data1 = {data1} and data2 = {data2}...\")"
   ]
  },
  {
   "cell_type": "code",
   "execution_count": null,
   "id": "1b85ced8-4eba-450c-b1ef-393e195224dd",
   "metadata": {},
   "outputs": [],
   "source": [
    "# C++ Implementation\n",
    "#include <iostream>\n",
    "using namespace std;\n",
    "int main() {\n",
    "    int data1 = 100, data2 = 50, data3, dadat4;    \n",
    "    cout << \"data1 = \" << data1 << \" and data2 = \" << data2 << endl;\n",
    "    data3 = data1 | data2;\n",
    "    cout << data1 << \" | \" << data2 << \" = \" << data3 << endl;\n",
    "    data3 = data1 & data2;\n",
    "    cout << data1 << \" & \" << data2 << \" = \" << data3 << endl;\n",
    "    data3 = data1 ^ data2;\n",
    "    cout << data1 << \" ^ \" << data2 << \" = \" << data3 << endl;\n",
    "    data1 = 1;\n",
    "    data2 = ~data1;\n",
    "    cout << \"data1 = \" << data1 << \" and data2 = \" << data2 << endl;\n",
    "    \n",
    "    data1 = 100;\n",
    "    data2 = data1 << 2;\n",
    "    cout << \"data1 = \" << data1 << \" and data2 = \" << data2 << endl;\n",
    "    \n",
    "    data2 = data1 >> 2;\n",
    "    cout << \"data1 = \" << data1 << \" and data2 = \" << data2 << endl;\n",
    "    return 0;\n",
    "}\n"
   ]
  },
  {
   "cell_type": "code",
   "execution_count": null,
   "id": "40babb5d-382a-4863-8d14-d1376b5c934c",
   "metadata": {},
   "outputs": [],
   "source": [
    "# Arithmetic Shift Right >>>\n",
    "1101 0011 >>> 2\n",
    "11101 001 >>> 1 = 1110 1001 >>> 1\n",
    "\n",
    "1110 1001 >>> 1\n",
    "11110 100 = 1111 0100"
   ]
  },
  {
   "cell_type": "code",
   "execution_count": 34,
   "id": "17fb7823-8a43-48d3-8336-0da503edd7c7",
   "metadata": {},
   "outputs": [
    {
     "name": "stdout",
     "output_type": "stream",
     "text": [
      "False\n",
      "True\n"
     ]
    }
   ],
   "source": [
    "def isOdd(n):\n",
    "    return (n & 1) == 1\n",
    "\n",
    "print (isOdd(100))\n",
    "print (isOdd(115))"
   ]
  },
  {
   "cell_type": "code",
   "execution_count": 36,
   "id": "f08069a5-52b5-4f00-8e75-dcaf2076c2b8",
   "metadata": {},
   "outputs": [
    {
     "name": "stdout",
     "output_type": "stream",
     "text": [
      "True\n",
      "False\n"
     ]
    }
   ],
   "source": [
    "def isEven(n):\n",
    "    return not isOdd(n)\n",
    "\n",
    "print (isEven(100))\n",
    "print (isEven(115))"
   ]
  },
  {
   "cell_type": "code",
   "execution_count": 38,
   "id": "df2e17c1-3c4b-423e-ae93-dc3c1ec47499",
   "metadata": {},
   "outputs": [
    {
     "name": "stdout",
     "output_type": "stream",
     "text": [
      "1\n",
      "1\n",
      "0\n"
     ]
    }
   ],
   "source": [
    "def getBit(n, i):\n",
    "    # finding the i-th bit from right in the number n\n",
    "    #                 7654 3210\n",
    "    # for (20, 2) => (0001 0100, 2) => 1\n",
    "    #          mask = 0000 0100 => 1 << 2 = 1 << i\n",
    "    mask = 1 << i\n",
    "    bit = 1 if (n & mask != 0) else 0\n",
    "    return bit\n",
    "\n",
    "print (getBit(20, 2))\n",
    "print (getBit(20, 4))\n",
    "print (getBit(20, 5))"
   ]
  },
  {
   "cell_type": "code",
   "execution_count": null,
   "id": "b195b906-2e18-4e4b-b57a-e2cb4bab8bbd",
   "metadata": {},
   "outputs": [],
   "source": [
    "# C++ Implementatio\n",
    "#include <iostream>\n",
    "using namespace std;\n",
    "\n",
    "int getBit(int n, int i) {\n",
    "    int mask = 1 << i;\n",
    "    // cout << (n & mask) << endl;\n",
    "    int bit = ((n & mask) != 0)?1:0;\n",
    "    return bit;\n",
    "}\n",
    "\n",
    "int main() {\n",
    "    cout << getBit(20, 2) << endl;\n",
    "    cout << getBit(20, 4) << endl;\n",
    "    cout << getBit(20, 5) << endl;\n",
    "    return 0;\n",
    "}"
   ]
  },
  {
   "cell_type": "code",
   "execution_count": 39,
   "id": "6a00be5d-06e4-45e6-ad4d-d7f08f7f547a",
   "metadata": {},
   "outputs": [
    {
     "name": "stdout",
     "output_type": "stream",
     "text": [
      "28\n",
      "20\n",
      "52\n"
     ]
    }
   ],
   "source": [
    "def setBit(n, i):\n",
    "    # setting the i-th bit from right in the number n with bit 1\n",
    "    #                 7654 3210\n",
    "    # for (20, 3) => (0001 0100, 3) => 0001 1100 => 28\n",
    "    #       or mask = 0000 1000 => 1 << 3 = 1 << i\n",
    "    mask = 1 << i\n",
    "    n = n | mask\n",
    "    return n\n",
    "\n",
    "print (setBit(20, 3))  # 28\n",
    "print (setBit(20, 4))  # 20\n",
    "print (setBit(20, 5))  # 52"
   ]
  },
  {
   "cell_type": "code",
   "execution_count": 41,
   "id": "63023757-7e43-4cb2-bac5-578e91b0dbcf",
   "metadata": {},
   "outputs": [
    {
     "name": "stdout",
     "output_type": "stream",
     "text": [
      "16\n"
     ]
    }
   ],
   "source": [
    "def clearBit(n, i):\n",
    "    # clearing the i-th bit from right in the number n\n",
    "    #                 7654 3210\n",
    "    # for (20, 2) => (0001 0100, 2) => 0001 0000 => 16\n",
    "    #      and mask = 1111 1011 => ~(1 << 2) = ~(1 << i)\n",
    "    mask = ~(1 << i)\n",
    "    n = n & mask\n",
    "    return n\n",
    "\n",
    "print (clearBit(20, 2))  # 16"
   ]
  },
  {
   "cell_type": "code",
   "execution_count": null,
   "id": "63419202-8842-4af4-a0c3-870f9b935e0b",
   "metadata": {},
   "outputs": [],
   "source": [
    "# C++ Implementation\n",
    "#include <iostream>\n",
    "using namespace std;\n",
    "\n",
    "int clearBit(int n, int i) {\n",
    "    int mask = ~(1 << i);\n",
    "    n = n & mask;\n",
    "    return n;\n",
    "}\n",
    "\n",
    "int main() {\n",
    "    cout << clearBit(20, 2) << endl;\n",
    "    return 0;\n",
    "}"
   ]
  },
  {
   "cell_type": "code",
   "execution_count": null,
   "id": "0e05c081-3f82-4c8c-8d86-c9af405d0b01",
   "metadata": {},
   "outputs": [],
   "source": [
    "# Java Implementation\n",
    "import java.util.Scanner;\n",
    "\n",
    "public class Main {\n",
    "    \n",
    "    public static void main(String[] args) {\n",
    "        Scanner sc = new Scanner(System.in);\n",
    "        System.out.print(\"Enter the decimal number: \");\n",
    "        int n = sc.nextInt();\n",
    "        System.out.print(\"Enter the bit index to fetch (0-indexed): \");\n",
    "        int i = sc.nextInt();\n",
    "        \n",
    "        // Fetch the i-th bit from n\n",
    "        int bit = getBit(n, i);\n",
    "        System.out.println(\"The \" + i + \"-th bit of \" + n + \" is \" + bit);\n",
    "        \n",
    "        // Set the i-th bit to 1\n",
    "        int newN = setBit(n, i);\n",
    "        System.out.println(\"After setting the \" + i + \"-th bit to 1, the new number is: \" + newN);\n",
    "        \n",
    "        // Clear the i-th bit to 0\n",
    "        newN = clearBit(n, i);\n",
    "        System.out.println(\"After clearing the \" + i + \"-th bit to 0, the new number is: \" + newN);\n",
    "    }\n",
    "    \n",
    "    public static int getBit(int n, int i) {\n",
    "        int mask = 1 << i;\n",
    "        return (n & mask) == 0 ? 0 : 1;\n",
    "    }\n",
    "    \n",
    "    public static int setBit(int n, int i) {\n",
    "        int mask = 1 << i;\n",
    "        return n | mask;\n",
    "    }\n",
    "    \n",
    "    public static int clearBit(int n, int i) {\n",
    "        int mask = ~(1 << i);\n",
    "        return n & mask;\n",
    "    }\n",
    "}"
   ]
  },
  {
   "cell_type": "code",
   "execution_count": null,
   "id": "e934ca7b-34ff-455f-8f8f-956e503f736a",
   "metadata": {},
   "outputs": [],
   "source": [
    "Class Assignment:\n",
    "Clear all bits of n from i-th (from right) to j-th (from left) bit positions\n",
    "ClearRangeItoJ(n, i, j)\n",
    "                   7654 3210\n",
    "for (63, 2, 4) => (0011 1111, 2, 4) => 0010 0011 => 35\n",
    "                      ----                ----"
   ]
  },
  {
   "cell_type": "code",
   "execution_count": null,
   "id": "52dca1d5-ae1c-4a26-aea4-0925139c950e",
   "metadata": {},
   "outputs": [],
   "source": [
    "# Python Implementation\n",
    "def ClearRangeItoJ(n, i, j):\n",
    "    for x in range(i,j+1):\n",
    "        n=n&(~(1<<x))\n",
    "    return n\n",
    "\n",
    "n=int(input(\"Enter number  n:\"))\n",
    "i=int(input(\"Enter number i:\"))\n",
    "j=int(input(\"Enter number j:\"))\n",
    "\n",
    "print(f\"ans = {ClearRangeItoJ(n, i, j)}\")"
   ]
  },
  {
   "cell_type": "code",
   "execution_count": null,
   "id": "0590ec5e-adce-4361-bf1d-72e70570f3ea",
   "metadata": {},
   "outputs": [],
   "source": [
    "# Java Implementation\n",
    "import java.util.Scanner;\n",
    "\n",
    "public class Main {\n",
    "    public static void main(String[] args) {\n",
    "        Scanner sc = new Scanner(System.in);\n",
    "        \n",
    "        // Read user input for n, i, and j\n",
    "        System.out.print(\"Enter a number (n): \");\n",
    "        int n = sc.nextInt();\n",
    "        System.out.print(\"Enter the starting bit index to clear (i): \");\n",
    "        int i = sc.nextInt();\n",
    "        System.out.print(\"Enter the ending bit index to clear (j): \");\n",
    "        int j = sc.nextInt();\n",
    "        \n",
    "        // Clear bits from i to j of n\n",
    "        n = clearBits(n, i, j);\n",
    "        \n",
    "        // Print the result\n",
    "        System.out.println(\"Result: \" + n);\n",
    "        \n",
    "        sc.close();\n",
    "    }\n",
    "    \n",
    "    // Method to clear bits from i to j of n\n",
    "    public static int clearBits(int n, int i, int j) {\n",
    "        // Create a mask to clear the bits from i to j of n\n",
    "        int ones = ~0;  // all ones\n",
    "        int leftMask = ones << (j + 1);  // create a mask with 1's in the left side\n",
    "        int rightMask = (1 << i) - 1;  // create a mask with 1's in the right side\n",
    "        int mask = leftMask | rightMask;  // combine the two masks\n",
    "        \n",
    "        // Clear the bits from i to j of n using the mask\n",
    "        int result = n & mask;\n",
    "        \n",
    "        return result;\n",
    "    }\n",
    "}"
   ]
  },
  {
   "cell_type": "code",
   "execution_count": 42,
   "id": "d0ec9653-d50f-49a6-9482-05618028d5bb",
   "metadata": {},
   "outputs": [
    {
     "name": "stdout",
     "output_type": "stream",
     "text": [
      "35\n"
     ]
    }
   ],
   "source": [
    "def clearRangeItoJ(n, i, j):\n",
    "    # clearing all bits from i-th (right) to j-th (left) bits in n\n",
    "    #                     7654 3210\n",
    "    # for (63, 2, 4) 63 = 0011 1111 => 0010 0011 => 35\n",
    "    #                        ----\n",
    "    #                 and 1110 0011 = (mask)\n",
    "    #             mask1 = 1110 0000 => (-1) << (i + j - 1)\n",
    "    #             mask2 = 0000 0011 => ~((-1) << i)\n",
    "    #                  or 1110 0011 (mask)\n",
    "    mask1 = (-1) << (i + j - 1)\n",
    "    mask2 = ~((-1) << i)\n",
    "    mask = mask1 | mask2\n",
    "    return n & mask\n",
    "\n",
    "print (clearRangeItoJ(63, 2, 4))"
   ]
  },
  {
   "cell_type": "code",
   "execution_count": 43,
   "id": "d95b878e-127e-43b7-b36a-b99580e68d01",
   "metadata": {},
   "outputs": [
    {
     "name": "stdout",
     "output_type": "stream",
     "text": [
      "16\n"
     ]
    }
   ],
   "source": [
    "def clearLastIBits(n, i):\n",
    "    # clearing last i bits from right side in number n\n",
    "    # for (20, 4) => (0001 0100, 4) => 0001 0000 => 16\n",
    "    #          mask = 1111 0000 => (-1) << i\n",
    "    #             and 0001 0000\n",
    "    mask = (-1) << i\n",
    "    return n & mask\n",
    "print (clearLastIBits(20, 4))  # 16"
   ]
  },
  {
   "cell_type": "code",
   "execution_count": null,
   "id": "8982b27d-fad6-457b-8f8c-66a8fd46496b",
   "metadata": {},
   "outputs": [],
   "source": [
    "LeetCode: 231. Power of Two\n",
    "\n",
    "Given an integer n, return true if it is a power of two. Otherwise, return false.\n",
    "An integer n is a power of two, if there exists an integer x such that n == 2x.\n",
    "\n",
    "Example 1:\n",
    "Input: n = 1\n",
    "Output: true\n",
    "Explanation: 20 = 1\n",
    "\n",
    "Example 2:\n",
    "Input: n = 16\n",
    "Output: true\n",
    "Explanation: 24 = 16\n",
    "\n",
    "Example 3:\n",
    "Input: n = 3\n",
    "Output: false\n",
    "\n",
    "Constraints:\n",
    "-2^31 <= n <= 2^31 - 1\n",
    "\n",
    "Follow up: Could you solve it without loops/recursion?"
   ]
  },
  {
   "cell_type": "code",
   "execution_count": 44,
   "id": "99cc1b4e-1b5b-4282-adbf-2c1d92102163",
   "metadata": {},
   "outputs": [
    {
     "name": "stdout",
     "output_type": "stream",
     "text": [
      "True\n",
      "True\n",
      "False\n"
     ]
    }
   ],
   "source": [
    "class Solution(object):\n",
    "    def isPowerOfTwo(self, n):\n",
    "        \"\"\"\n",
    "        :type n: int\n",
    "        :rtype: bool\n",
    "        \"\"\"\n",
    "        p = 0\n",
    "        while (2 ** p < n):\n",
    "            p = p + 1\n",
    "            \n",
    "        if (2 ** p == n): return True\n",
    "        else: return False\n",
    "        \n",
    "print (Solution().isPowerOfTwo(16))\n",
    "print (Solution().isPowerOfTwo(64))\n",
    "print (Solution().isPowerOfTwo(3))"
   ]
  },
  {
   "cell_type": "code",
   "execution_count": 45,
   "id": "f9a81f11-4bc9-4578-bc06-08119c8e72de",
   "metadata": {},
   "outputs": [
    {
     "name": "stdout",
     "output_type": "stream",
     "text": [
      "True\n",
      "True\n",
      "False\n"
     ]
    }
   ],
   "source": [
    "class Solution(object):\n",
    "    def isPowerOfTwo(self, n):\n",
    "        \"\"\"\n",
    "        :type n: int\n",
    "        :rtype: bool\n",
    "        \"\"\"\n",
    "        p = 0\n",
    "        while (2 ** p < n):\n",
    "            p = p + 1\n",
    "            \n",
    "        return 2 ** p == n\n",
    "        \n",
    "print (Solution().isPowerOfTwo(16))\n",
    "print (Solution().isPowerOfTwo(64))\n",
    "print (Solution().isPowerOfTwo(3))"
   ]
  },
  {
   "cell_type": "code",
   "execution_count": 46,
   "id": "4369e810-4a1e-4ce4-8f7e-c0a3c0559529",
   "metadata": {},
   "outputs": [
    {
     "name": "stdout",
     "output_type": "stream",
     "text": [
      "True\n",
      "True\n",
      "False\n"
     ]
    }
   ],
   "source": [
    "class Solution(object):\n",
    "    def isPowerOfTwo(self, n):\n",
    "        \"\"\"\n",
    "        :type n: int\n",
    "        :rtype: bool\n",
    "        \"\"\"\n",
    "        return ((n != 0) and (n & (n - 1)) == 0)\n",
    "    \n",
    "# n = 16 (0001 0000), n - 1 = 15 (0000 1111), n & (n - 1) = 0001 0000 & 0000 1111 = 0\n",
    "# n = 10 (0000 1010), n - 1 = 9  (0000 1001), n & (n - 1) = 0000 1010 & 0000 1001 = 0000 1000 != 0\n",
    "        \n",
    "print (Solution().isPowerOfTwo(16))\n",
    "print (Solution().isPowerOfTwo(64))\n",
    "print (Solution().isPowerOfTwo(3))"
   ]
  },
  {
   "cell_type": "code",
   "execution_count": 47,
   "id": "8d6390da-b148-42dd-bdd5-0fb49472124f",
   "metadata": {},
   "outputs": [
    {
     "name": "stdout",
     "output_type": "stream",
     "text": [
      "True\n",
      "True\n",
      "False\n"
     ]
    }
   ],
   "source": [
    "class Solution(object):\n",
    "    def isPowerOfTwo(self, n):\n",
    "        \"\"\"\n",
    "        :type n: int\n",
    "        :rtype: bool\n",
    "        \"\"\"\n",
    "        return ((n > 0) and (n & (n - 1)) == 0)\n",
    "        \n",
    "print (Solution().isPowerOfTwo(16))\n",
    "print (Solution().isPowerOfTwo(64))\n",
    "print (Solution().isPowerOfTwo(3))"
   ]
  },
  {
   "cell_type": "code",
   "execution_count": null,
   "id": "c80decb7-5134-48e5-bb05-2571a9c15219",
   "metadata": {},
   "outputs": [],
   "source": [
    "Leetcode: 136. Single Number (https://leetcode.com/problems/single-number/)\n",
    "\n",
    "Given a non-empty array of integers nums, every element appears twice except for one. Find that single one.\n",
    "You must implement a solution with a linear runtime complexity and use only constant extra space.\n",
    "\n",
    "Example 1:\n",
    "Input: nums = [2,2,1]\n",
    "Output: 1\n",
    "\n",
    "Example 2:\n",
    "Input: nums = [4,1,2,1,2]\n",
    "Output: 4\n",
    "\n",
    "Example 3:\n",
    "Input: nums = [1]\n",
    "Output: 1\n",
    "\n",
    "Constraints:\n",
    "1 <= nums.length <= 3 * 10^4\n",
    "-3 * 10^4 <= nums[i] <= 3 * 10^4\n",
    "Each element in the array appears twice except for one element which appears only once."
   ]
  },
  {
   "cell_type": "code",
   "execution_count": 48,
   "id": "904d699d-513d-490b-a2ea-089daaa78808",
   "metadata": {},
   "outputs": [
    {
     "name": "stdout",
     "output_type": "stream",
     "text": [
      "4\n",
      "5\n"
     ]
    }
   ],
   "source": [
    "class Solution(object):\n",
    "    def singleNumber(self, nums):\n",
    "        \"\"\"\n",
    "        :type nums: List[int]\n",
    "        :rtype: int\n",
    "        \"\"\"\n",
    "        ans = nums[0]\n",
    "        for i in range(1, len(nums)):\n",
    "            ans ^= nums[i]\n",
    "        return ans\n",
    "print (Solution().singleNumber([4,1,2,1,2]))  # 4\n",
    "print (Solution().singleNumber([10,7,8,7,5,10,8]))  # 5"
   ]
  },
  {
   "cell_type": "code",
   "execution_count": null,
   "id": "5c993a28-b626-43ca-8cf0-efce17885bfb",
   "metadata": {},
   "outputs": [],
   "source": [
    "# Java Implementation\n",
    "import java.util.*;\n",
    "\n",
    "public class SingleNumber {\n",
    "\n",
    "    public static int findSingleNumber(int[] nums) {\n",
    "        int result = 0;\n",
    "        for (int num : nums) {\n",
    "            result ^= num;\n",
    "        }\n",
    "        return result;\n",
    "    }\n",
    "\n",
    "    public static void main(String[] args) {\n",
    "        Scanner sc = new Scanner(System.in);\n",
    "        System.out.print(\"Enter the number of elements in the array: \");\n",
    "        int n = sc.nextInt();\n",
    "        int[] nums = new int[n];\n",
    "        System.out.print(\"Enter the elements of the array: \");\n",
    "        for (int i = 0; i < n; i++) {\n",
    "            nums[i] = sc.nextInt();\n",
    "        }\n",
    "        int singleNumber = findSingleNumber(nums);\n",
    "        System.out.println(\"The single number in the given array is \" + singleNumber);\n",
    "    }\n",
    "}"
   ]
  },
  {
   "cell_type": "code",
   "execution_count": null,
   "id": "0b9a6001-5c47-41ec-9122-48b646dbbbf1",
   "metadata": {},
   "outputs": [],
   "source": [
    "Home Assignment:\n",
    "----------------\n",
    "\n",
    "       x y ...... z\n",
    "                * 3\n",
    "       ------------\n",
    "       y ...... z x\n",
    "        \n",
    "    x can be 1 or 2 or 3\n",
    "       1 0 2 1 2\n",
    "       1 4 2 8 5 7 => 142857\n",
    "               * 3\n",
    "       -----------\n",
    "       4 2 8 5 7 1\n",
    "        \n",
    "Find out all possible such numbers for which this is true."
   ]
  },
  {
   "cell_type": "code",
   "execution_count": 51,
   "id": "bece6727-5562-4ea6-ba6f-1cb7ed96a580",
   "metadata": {},
   "outputs": [
    {
     "name": "stdout",
     "output_type": "stream",
     "text": [
      "Executing the loop...\n",
      "Executing the loop...\n",
      "Executing the loop...\n",
      "Executing the loop...\n",
      "Executing the loop...\n",
      "3\n",
      "Executing the loop...\n",
      "Executing the loop...\n",
      "Executing the loop...\n",
      "Executing the loop...\n",
      "Executing the loop...\n",
      "Executing the loop...\n",
      "Executing the loop...\n",
      "4\n"
     ]
    }
   ],
   "source": [
    "# counting the number of set bits in the number n\n",
    "def countBits(n):\n",
    "    ans = 0\n",
    "    while(n):\n",
    "        ans = ans + (n & 1)\n",
    "        n = n >> 1\n",
    "        print (\"Executing the loop...\")\n",
    "    return ans\n",
    "\n",
    "print (countBits(22))  # 22 = 16 + 4 + 2 = 0001 0110 => 3\n",
    "print (countBits(120)) # 120 = 64 + 32 + 16 + 8 = 0111 1000 => 4"
   ]
  },
  {
   "cell_type": "code",
   "execution_count": 52,
   "id": "92b1fb9d-9639-4ef5-a27a-b0408dd01b28",
   "metadata": {},
   "outputs": [
    {
     "name": "stdout",
     "output_type": "stream",
     "text": [
      "Executing the loop...\n",
      "Executing the loop...\n",
      "Executing the loop...\n",
      "3\n",
      "Executing the loop...\n",
      "Executing the loop...\n",
      "Executing the loop...\n",
      "Executing the loop...\n",
      "4\n"
     ]
    }
   ],
   "source": [
    "# counting the number of set bits in the number n                           #    ans   n\n",
    "def countBitsFast1(n):                                                      #  ---------------------\n",
    "    ans = 0                                                                 #     0    22 = 10110 (Initialization)\n",
    "    while(n):                                                               #     1    22 & 21 = 10110 & 10101 = 10100 = 20\n",
    "        n = n & (n - 1)                                                     #     2    20 & 19 = 10100 & 10011 = 10000 = 16\n",
    "        ans += 1                                                            #     3    16 & 15 = 10000 & 01111 = 00000 = 0\n",
    "        print (\"Executing the loop...\")                                     #\n",
    "    return ans\n",
    "\n",
    "print (countBitsFast1(22))  # 22 = 16 + 4 + 2 = 0001 0110 => 3\n",
    "print (countBitsFast1(120)) # 120 = 64 + 32 + 16 + 8 = 0111 1000 => 4"
   ]
  },
  {
   "cell_type": "code",
   "execution_count": 53,
   "id": "6bb8e9f6-2ad8-4eb3-90bf-3e4975fb3ec8",
   "metadata": {},
   "outputs": [
    {
     "name": "stdout",
     "output_type": "stream",
     "text": [
      "Executing the loop...\n",
      "Executing the loop...\n",
      "Executing the loop...\n",
      "3\n",
      "Executing the loop...\n",
      "Executing the loop...\n",
      "Executing the loop...\n",
      "Executing the loop...\n",
      "4\n"
     ]
    }
   ],
   "source": [
    "# counting the number of set bits in the number n  #    ans   p = n & (-n)                               n = n - p\n",
    "def countBitsFast2(n):                             #  ---------------------------------------------------------------------\n",
    "    ans = 0                                        #     0                                               22 = 10110 (Init)\n",
    "    while(n):                                      #     1    22 & (-22) = 10110 & 01010 = 00010 = 2     22 - 2 = 20\n",
    "        p = n & (-n)                               #     2    20 & (-20) = 10100 & 01100 = 00100 = 4     20 - 4 = 16\n",
    "        n = n - p                                  #     3    16 & (-16) = 10000 & 10000 = 10000 = 16    16 - 16 = 0\n",
    "        ans += 1                                   #\n",
    "        print (\"Executing the loop...\")            #\n",
    "    return ans\n",
    "\n",
    "print (countBitsFast2(22))  # 22 = 16 + 4 + 2 = 0001 0110 => 3\n",
    "print (countBitsFast2(120)) # 120 = 64 + 32 + 16 + 8 = 0111 1000 => 4"
   ]
  },
  {
   "cell_type": "code",
   "execution_count": null,
   "id": "8a2d9ad1-c96e-45c9-b1f4-b6133b4fc8b2",
   "metadata": {},
   "outputs": [],
   "source": [
    "# C++ Implementation\n",
    "#include <iostream>\n",
    "using namespace std;\n",
    "\n",
    "int countBitsFast1(int n) {                          \n",
    "    int ans = 0;\n",
    "    while(n) {                                   \n",
    "        n = n & (n - 1);                          \n",
    "        ans += 1 ;                                 \n",
    "        cout << \"Executing the loop...\" << endl;\n",
    "    }\n",
    "    return ans;\n",
    "}\n",
    "\n",
    "int countBitsFast2(int n) {                          \n",
    "    int ans = 0;\n",
    "    while(n) {                                   \n",
    "        int p = n & (-n);                              \n",
    "        n = n - p;                                 \n",
    "        ans += 1 ;                                 \n",
    "        cout << \"Executing the loop...\" << endl;\n",
    "    }\n",
    "    return ans;\n",
    "}\n",
    "int main() {\n",
    "    cout << countBitsFast1(22) << endl;\n",
    "    cout << countBitsFast1(120) << endl;\n",
    "    cout << countBitsFast2(22) << endl;\n",
    "    cout << countBitsFast2(120) << endl;\n",
    "    return 0;\n",
    "}"
   ]
  },
  {
   "cell_type": "code",
   "execution_count": 57,
   "id": "cd90d153-dafc-416c-880e-6061b79072d4",
   "metadata": {},
   "outputs": [
    {
     "name": "stdout",
     "output_type": "stream",
     "text": [
      "Executing the Loop...\n",
      "Executing the Loop...\n",
      "Executing the Loop...\n",
      "Executing the Loop...\n",
      "1024\n",
      "Executing the Loop...\n",
      "Executing the Loop...\n",
      "Executing the Loop...\n",
      "Executing the Loop...\n",
      "256\n",
      "Executing the Loop...\n",
      "Executing the Loop...\n",
      "Executing the Loop...\n",
      "64\n",
      "Executing the Loop...\n",
      "Executing the Loop...\n",
      "Executing the Loop...\n",
      "Executing the Loop...\n",
      "Executing the Loop...\n",
      "1048576\n"
     ]
    }
   ],
   "source": [
    "# Binary Exponentiation Method\n",
    "def power_optimized(a, n):\n",
    "    # calculating a to the power of n\n",
    "    # for a = 2 and n = 10, so a^n = 2^10 = 1024 is the answer\n",
    "    # now 10 = 1010, i.e. log2(n) number of bits, and that will be the complexity\n",
    "    # starting from the right size of 1010, then\n",
    "    # if the bit is 0 just do a = a * a\n",
    "    # but if it is 1 just do result = result * a and also a = a * a where result will be initialized at the beginning with 1\n",
    "    result = 1\n",
    "    while (n > 0):\n",
    "        last_bit = n & 1                               #   a         n            result      last_bit\n",
    "        if (last_bit):                                 # ----------------------------------------------------------\n",
    "            result = result * a                        #   2         10 = 1010    1           0               (initialization)\n",
    "        a = a * a                                      #   2*2=4     101 = 5      4           1\n",
    "        n >>= 1                                        #   4*4=16    10 = 2                   0\n",
    "        print (\"Executing the Loop...\")                #   16*16=256 1                        1\n",
    "    return (result)                                    #   256*256   0            4 * 256 \n",
    "                                                                                  = 1024\n",
    "print (power_optimized(2, 10))\n",
    "print (power_optimized(2, 8))\n",
    "print (power_optimized(2, 6))\n",
    "print (power_optimized(2, 20))"
   ]
  },
  {
   "cell_type": "code",
   "execution_count": null,
   "id": "21d71c01-6dda-4dd3-832d-fe6866452a62",
   "metadata": {},
   "outputs": [],
   "source": [
    "# Java Implementation\n",
    "//Power Optimization\n",
    "import java.util.Scanner;\n",
    "\n",
    "public class Main {\n",
    "    \n",
    "    public static int power(int base, int exponent) {\n",
    "        int result = 1;\n",
    "        while (exponent > 0) {\n",
    "            if (exponent % 2 == 1) {\n",
    "                result *= base;\n",
    "            }\n",
    "            base *= base;\n",
    "            exponent >>= 1;\n",
    "            System.out.println(\"Executing the loop...\");\n",
    "        }\n",
    "        return result;\n",
    "    }\n",
    "    \n",
    "    public static void main(String[] args) {\n",
    "        Scanner scanner = new Scanner(System.in);\n",
    "        System.out.print(\"Enter base: \");\n",
    "        int base = scanner.nextInt();\n",
    "        System.out.print(\"Enter exponent: \");\n",
    "        int exponent = scanner.nextInt();\n",
    "        scanner.close();\n",
    "        \n",
    "        int result = power(base, exponent);\n",
    "        System.out.println(base + \"^\" + exponent + \" = \" + result);\n",
    "    }\n",
    "}"
   ]
  },
  {
   "cell_type": "code",
   "execution_count": null,
   "id": "c47fcbdf-5a28-4153-83f3-ca2e11457549",
   "metadata": {},
   "outputs": [],
   "source": [
    "Bit Manipulation Lessons\n",
    "------------------------\n",
    "1. data << n = data x 2^n\n",
    "2. data >> n = data / 2^n\n",
    "3. -1 = ~0 = 111...1 (all 1 bits)\n",
    "4. ~n = -n - 1  or -n = ~n + 1\n",
    "5. -n = 2^n - n\n",
    "6. n & (n - 1) => 100110 ----> 100100  (Rightmost bit 1 will be reset)\n",
    "7. n & (-n) => 100110 ----> 000010 (Only Right most 1 will sustain, rest all bits will become 0)"
   ]
  },
  {
   "cell_type": "code",
   "execution_count": null,
   "id": "2685e84a-62dd-4643-b641-fd4b8a8823e7",
   "metadata": {},
   "outputs": [],
   "source": [
    "LeetCode: 260. Single Number III\n",
    "\n",
    "Given an integer array nums, in which exactly two elements appear only once and all the other elements appear exactly twice.\n",
    "Find the two elements that appear only once. You can return the answer in any order.\n",
    "\n",
    "You must write an algorithm that runs in linear runtime complexity and uses only constant \n",
    "extra space. (https://leetcode.com/problems/single-number-iii/)\n",
    "\n",
    "Example 1:\n",
    "Input: nums = [1,2,1,3,2,5]\n",
    "Output: [3,5]\n",
    "Explanation:  [5, 3] is also a valid answer.\n",
    "\n",
    "Example 2:\n",
    "Input: nums = [-1,0]\n",
    "Output: [-1,0]\n",
    "\n",
    "Example 3:\n",
    "Input: nums = [0,1]\n",
    "Output: [1,0]\n",
    "\n",
    "Constraints:\n",
    "2 <= nums.length <= 3 * 10^4\n",
    "-2^31 <= nums[i] <= 2^31 - 1\n",
    "Each integer in nums will appear twice, only two integers will appear once."
   ]
  },
  {
   "cell_type": "code",
   "execution_count": 61,
   "id": "d235ac96-8943-4321-ae7a-6bb12ede12fa",
   "metadata": {},
   "outputs": [
    {
     "name": "stdout",
     "output_type": "stream",
     "text": [
      "6\n",
      "1\n",
      "[3, 5]\n",
      "3\n",
      "0\n",
      "[5, 6]\n"
     ]
    }
   ],
   "source": [
    "class Solution(object):\n",
    "    def singleNumber(self, nums):\n",
    "        \"\"\"\n",
    "        :type nums: List[int]\n",
    "        :rtype: List[int]\n",
    "        \"\"\"\n",
    "        mask = 0\n",
    "        for i in range(len(nums)):\n",
    "            mask = mask ^ nums[i]\n",
    "        print (mask)\n",
    "        pos = 0\n",
    "        new_mask = mask\n",
    "        while (new_mask & 1 != 1):\n",
    "            pos += 1\n",
    "            new_mask = new_mask >> 1\n",
    "        print (pos)\n",
    "        new_mask = 1 << pos\n",
    "        temp = 0\n",
    "        for i in range(len(nums)):\n",
    "            if (nums[i] & new_mask):\n",
    "                temp = temp ^ nums[i]\n",
    "        list1 = [temp, mask ^ temp]\n",
    "        return list1\n",
    "        \n",
    "print (Solution().singleNumber([1,2,1,3,2,5]))\n",
    "print (Solution().singleNumber([7,10,7,11,5,11,10,6]))"
   ]
  },
  {
   "cell_type": "code",
   "execution_count": null,
   "id": "ebab7d18-f94d-4538-9d25-8e78f165ad11",
   "metadata": {},
   "outputs": [],
   "source": []
  },
  {
   "cell_type": "code",
   "execution_count": null,
   "id": "8f0b2361-ac66-488d-baf5-c48e9f37b8b1",
   "metadata": {},
   "outputs": [],
   "source": []
  },
  {
   "cell_type": "code",
   "execution_count": null,
   "id": "311c1794-7cd4-441f-95f7-b93953081178",
   "metadata": {},
   "outputs": [],
   "source": []
  },
  {
   "cell_type": "code",
   "execution_count": null,
   "id": "ec4d552b-a69b-4056-9ef9-085bf85659dc",
   "metadata": {},
   "outputs": [],
   "source": []
  },
  {
   "cell_type": "code",
   "execution_count": null,
   "id": "66968f3c-55b8-48c4-8366-0cfee22da056",
   "metadata": {},
   "outputs": [],
   "source": []
  },
  {
   "cell_type": "code",
   "execution_count": null,
   "id": "c4189639-3328-4f4a-9f33-b8d3be92ddc8",
   "metadata": {},
   "outputs": [],
   "source": []
  },
  {
   "cell_type": "code",
   "execution_count": null,
   "id": "aa81b839-acda-4ac0-a6b6-3ed32eafce07",
   "metadata": {},
   "outputs": [],
   "source": []
  }
 ],
 "metadata": {
  "kernelspec": {
   "display_name": "Python 3",
   "language": "python",
   "name": "python3"
  },
  "language_info": {
   "codemirror_mode": {
    "name": "ipython",
    "version": 3
   },
   "file_extension": ".py",
   "mimetype": "text/x-python",
   "name": "python",
   "nbconvert_exporter": "python",
   "pygments_lexer": "ipython3",
   "version": "3.8.8"
  }
 },
 "nbformat": 4,
 "nbformat_minor": 5
}
